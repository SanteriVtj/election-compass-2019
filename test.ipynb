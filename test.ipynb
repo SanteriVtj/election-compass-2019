{
 "metadata": {
  "language_info": {
   "codemirror_mode": {
    "name": "ipython",
    "version": 3
   },
   "file_extension": ".py",
   "mimetype": "text/x-python",
   "name": "python",
   "nbconvert_exporter": "python",
   "pygments_lexer": "ipython3",
   "version": "3.8.3-final"
  },
  "orig_nbformat": 2,
  "kernelspec": {
   "name": "python3",
   "display_name": "Python 3.8.3 64-bit ('base': conda)",
   "metadata": {
    "interpreter": {
     "hash": "c0fcc2a44fcf227b4f1f25af2bd094a575f895c0212a232970ea1cf881242b12"
    }
   }
  }
 },
 "nbformat": 4,
 "nbformat_minor": 2,
 "cells": [
  {
   "cell_type": "code",
   "execution_count": 128,
   "metadata": {},
   "outputs": [],
   "source": [
    "import csv\n",
    "import pandas as pd\n",
    "import matplotlib.pyplot as plt\n",
    "import numpy as np\n",
    "from sklearn.decomposition import PCA\n",
    "from sklearn.cluster import KMeans\n",
    "from sklearn.cluster import DBSCAN\n",
    "from sklearn.metrics import accuracy_score"
   ]
  },
  {
   "cell_type": "code",
   "execution_count": 116,
   "metadata": {},
   "outputs": [
    {
     "output_type": "execute_result",
     "data": {
      "text/plain": [
       "                                                 \n",
       "1                                                     5                                                                            \n",
       "2                                                     1                                                                            \n",
       "3                                                     1                                                                            \n",
       "4                                                     1                                                                            \n",
       "...                                                 ...                                                                            \n",
       "2432                                                  4                                                                            \n",
       "2433                                                  1                                                                            \n",
       "2434                                                  5                                                                            \n",
       "2435                                                  2                                                                            \n",
       "2436                                                  2                                                                            \n",
       "\n",
       "     Suomen ei pidä kiirehtiä kieltämään uusien bensa- ja dieselautojen myyntiä.  \\\n",
       "0                                                     4                            \n",
       "1                                                   NaN                            \n",
       "2                                                     5                            \n",
       "3                                                     5                            \n",
       "4                                                     5                            \n",
       "...                                                 ...                            \n",
       "2432                                                  5                            \n",
       "2433                                                  5                            \n",
       "2434                                                  4                            \n",
       "2435                                                  5                            \n",
       "2436                                                  5                            \n",
       "\n",
       "     Valtion pitää ohjata suomalaiset syömään vähemmän lihaa esimerkiksi verotuksen avulla.  \\\n",
       "0                                                     4                                       \n",
       "1                                                     4                                       \n",
       "2                                                     1                                       \n",
       "3                                                     1                                       \n",
       "4                                                     1                                       \n",
       "...                                                 ...                                       \n",
       "2432                                                  1                                       \n",
       "2433                                                  1                                       \n",
       "2434                                                  4                                       \n",
       "2435                                                  1                                       \n",
       "2436                                                  1                                       \n",
       "\n",
       "     Metsiä hakataan Suomessa liikaa.  \\\n",
       "0                                   1   \n",
       "1                                   5   \n",
       "2                                   2   \n",
       "3                                   1   \n",
       "4                                   2   \n",
       "...                               ...   \n",
       "2432                                2   \n",
       "2433                                1   \n",
       "2434                                1   \n",
       "2435                                2   \n",
       "2436                                2   \n",
       "\n",
       "     Kun valtion menoja ja tuloja tasapainotetaan, se on tehtävä mieluummin menoja karsimalla kuin veroja kiristämällä.  \\\n",
       "0                                                     5                                                                   \n",
       "1                                                     1                                                                   \n",
       "2                                                     5                                                                   \n",
       "3                                                     1                                                                   \n",
       "4                                                     5                                                                   \n",
       "...                                                 ...                                                                   \n",
       "2432                                                  5                                                                   \n",
       "2433                                                  5                                                                   \n",
       "2434                                                  2                                                                   \n",
       "2435                                                  4                                                                   \n",
       "2436                                                  4                                                                   \n",
       "\n",
       "     Sosiaaliturvaa tulee kehittää niin, että osa nykyisistä tuista korvataan kaikille työikäisille maksettavalla, vastikkeettomalla perustulolla.  \\\n",
       "0                                                     1                                                                                              \n",
       "1                                                     4                                                                                              \n",
       "2                                                     1                                                                                              \n",
       "3                                                     1                                                                                              \n",
       "4                                                     1                                                                                              \n",
       "...                                                 ...                                                                                              \n",
       "2432                                                  2                                                                                              \n",
       "2433                                                  1                                                                                              \n",
       "2434                                                  4                                                                                              \n",
       "2435                                                  1                                                                                              \n",
       "2436                                                  2                                                                                              \n",
       "\n",
       "     Euron ulkopuolella Suomi pärjäisi paremmin.  ...  \\\n",
       "0                                              2  ...   \n",
       "1                                              5  ...   \n",
       "2                                              5  ...   \n",
       "3                                              5  ...   \n",
       "4                                              5  ...   \n",
       "...                                          ...  ...   \n",
       "2432                                           1  ...   \n",
       "2433                                           5  ...   \n",
       "2434                                           1  ...   \n",
       "2435                                           2  ...   \n",
       "2436                                           2  ...   \n",
       "\n",
       "     Lappi. Lappiin ei saa avata yhtään uutta kaivosta ennen kuin yhtiöiltä aletaan periä kaivosveroa.  \\\n",
       "0                                                   NaN                                                  \n",
       "1                                                   NaN                                                  \n",
       "2                                                   NaN                                                  \n",
       "3                                                   NaN                                                  \n",
       "4                                                   NaN                                                  \n",
       "...                                                 ...                                                  \n",
       "2432                                                  2                                                  \n",
       "2433                                                  2                                                  \n",
       "2434                                                  2                                                  \n",
       "2435                                                  2                                                  \n",
       "2436                                                  5                                                  \n",
       "\n",
       "     Lappi. Mahdollisen uuden maakuntahallinnon toimintoja ja työpaikkoja on sijoitettava muuallekin kuin Rovaniemelle.  \\\n",
       "0                                                   NaN                                                                   \n",
       "1                                                   NaN                                                                   \n",
       "2                                                   NaN                                                                   \n",
       "3                                                   NaN                                                                   \n",
       "4                                                   NaN                                                                   \n",
       "...                                                 ...                                                                   \n",
       "2432                                                  5                                                                   \n",
       "2433                                                  5                                                                   \n",
       "2434                                                  5                                                                   \n",
       "2435                                                  5                                                                   \n",
       "2436                                                  5                                                                   \n",
       "\n",
       "     Lappi. Lapin erikoissairaanhoito on keskitettävä kokonaan Rovaniemelle Lapin keskussairaalaan.  \\\n",
       "0                                                   NaN                                               \n",
       "1                                                   NaN                                               \n",
       "2                                                   NaN                                               \n",
       "3                                                   NaN                                               \n",
       "4                                                   NaN                                               \n",
       "...                                                 ...                                               \n",
       "2432                                                  1                                               \n",
       "2433                                                  1                                               \n",
       "2434                                                  1                                               \n",
       "2435                                                  2                                               \n",
       "2436                                                  1                                               \n",
       "\n",
       "     Lappi. Alkuperäiskansojen oikeuksia koskeva ILO-sopimus pitää ratifioida seuraavalla hallituskaudella.   \\\n",
       "0                                                   NaN                                                        \n",
       "1                                                   NaN                                                        \n",
       "2                                                   NaN                                                        \n",
       "3                                                   NaN                                                        \n",
       "4                                                   NaN                                                        \n",
       "...                                                 ...                                                        \n",
       "2432                                                  2                                                        \n",
       "2433                                                  1                                                        \n",
       "2434                                                  2                                                        \n",
       "2435                                                  2                                                        \n",
       "2436                                                  5                                                        \n",
       "\n",
       "     Lappi. Jäämeren rata pitää rakentaa.  \\\n",
       "0                                     NaN   \n",
       "1                                     NaN   \n",
       "2                                     NaN   \n",
       "3                                     NaN   \n",
       "4                                     NaN   \n",
       "...                                   ...   \n",
       "2432                                    2   \n",
       "2433                                    5   \n",
       "2434                                    4   \n",
       "2435                                    5   \n",
       "2436                                    2   \n",
       "\n",
       "     Lappi. Lappiin ei saa avata yhtään uutta kaivosta ennen kuin yhtiöiltä aletaan periä kaivosveroa..1  \\\n",
       "0                                                   NaN                                                    \n",
       "1                                                   NaN                                                    \n",
       "2                                                   NaN                                                    \n",
       "3                                                   NaN                                                    \n",
       "4                                                   NaN                                                    \n",
       "...                                                 ...                                                    \n",
       "2432  Asia ei tule kuntoon ainaostaan mahdollisella ...                                                    \n",
       "2433  Kaivosten työllisyysvaikutukset on merkittäviä...                                                    \n",
       "2434  Tämä kysymys on muna-kana-ongelma. Jos kaivosv...                                                    \n",
       "2435  Nyky kaivoslakia voisi tarkentaa. Tärkeintä ol...                                                    \n",
       "2436  Eikä kaivoksia pidä kenkätä ulkomaisille omist...                                                    \n",
       "\n",
       "     Lappi. Mahdollisen uuden maakuntahallinnon toimintoja ja työpaikkoja on sijoitettava muuallekin kuin Rovaniemelle..1  \\\n",
       "0                                                   NaN                                                                     \n",
       "1                                                   NaN                                                                     \n",
       "2                                                   NaN                                                                     \n",
       "3                                                   NaN                                                                     \n",
       "4                                                   NaN                                                                     \n",
       "...                                                 ...                                                                     \n",
       "2432  Mahdollisen maakuntahallinnon tehtäviä tulee s...                                                                     \n",
       "2433                                                  -                                                                     \n",
       "2434  Tänä päivänä, voidaan hallinnollisia töitä teh...                                                                     \n",
       "2435  Lapissa voidaan helposti sijoittaa muuallekin ...                                                                     \n",
       "2436  Ei ole koko Lapin etu että kaikkia toimintoja ...                                                                     \n",
       "\n",
       "     Lappi. Lapin erikoissairaanhoito on keskitettävä kokonaan Rovaniemelle Lapin keskussairaalaan..1  \\\n",
       "0                                                   NaN                                                 \n",
       "1                                                   NaN                                                 \n",
       "2                                                   NaN                                                 \n",
       "3                                                   NaN                                                 \n",
       "4                                                   NaN                                                 \n",
       "...                                                 ...                                                 \n",
       "2432  Lappi on todella laaja alue. Lapin erikoissair...                                                 \n",
       "2433  Kemissä Länsi Pohjan Keskussairaala on myöskin...                                                 \n",
       "2434  Minusta erikoissairaanhoidon osalta voidaan te...                                                 \n",
       "2435  Jaettu erikoisosaaminen Kemin keskussairaalan ...                                                 \n",
       "2436  Meri-Lapissa on saneeratut toimivat tilat. Mod...                                                 \n",
       "\n",
       "     Lappi. Alkuperäiskansojen oikeuksia koskeva ILO-sopimus pitää ratifioida seuraavalla hallituskaudella. .1  \\\n",
       "0                                                   NaN                                                          \n",
       "1                                                   NaN                                                          \n",
       "2                                                   NaN                                                          \n",
       "3                                                   NaN                                                          \n",
       "4                                                   NaN                                                          \n",
       "...                                                 ...                                                          \n",
       "2432  Ensin tulee päästä yksimielisyyteen saamelaisu...                                                          \n",
       "2433                                                  -                                                          \n",
       "2434  Mielestäni tästä pitäisi järjestää kansanäänes...                                                          \n",
       "2435  En näe tarvetta. Nykytila on riittävän hyvä, s...                                                          \n",
       "2436       Saamelaiset ovat ansainneet erityisasemansa.                                                          \n",
       "\n",
       "                 Lappi. Jäämeren rata pitää rakentaa..1  \n",
       "0                                                   NaN  \n",
       "1                                                   NaN  \n",
       "2                                                   NaN  \n",
       "3                                                   NaN  \n",
       "4                                                   NaN  \n",
       "...                                                 ...  \n",
       "2432  Nykyinen ratasuunnitelma on todettu tutkimuksi...  \n",
       "2433  Huoltovarmuuden kannalta pitää. Maamme viennis...  \n",
       "2434  Toivon, että Jäämeren radasta järjestettäisiin...  \n",
       "2435  Ehdottomasti. Useimmat eivät näe radan kaikkia...  \n",
       "2436  Jos meillä olisi yhteys petsamoon, asia olisi ...  \n",
       "\n",
       "[2437 rows x 212 columns]"
      ],
      "text/html": "<div>\n<style scoped>\n    .dataframe tbody tr th:only-of-type {\n        vertical-align: middle;\n    }\n\n    .dataframe tbody tr th {\n        vertical-align: top;\n    }\n\n    .dataframe thead th {\n        text-align: right;\n    }\n</style>\n<table border=\"1\" class=\"dataframe\">\n  <thead>\n    <tr style=\"text-align: right;\">\n      <th></th>\n      <th>vaalipiiri</th>\n      <th>puolue</th>\n      <th>Valintatieto (0=ei valita, 1=valitaan, 2=varalla)</th>\n      <th>Suomen pitää olla edelläkävijä ilmastonmuutoksen vastaisessa taistelussa, vaikka se aiheuttaisi suomalaisille kustannuksia.</th>\n      <th>Suomen ei pidä kiirehtiä kieltämään uusien bensa- ja dieselautojen myyntiä.</th>\n      <th>Valtion pitää ohjata suomalaiset syömään vähemmän lihaa esimerkiksi verotuksen avulla.</th>\n      <th>Metsiä hakataan Suomessa liikaa.</th>\n      <th>Kun valtion menoja ja tuloja tasapainotetaan, se on tehtävä mieluummin menoja karsimalla kuin veroja kiristämällä.</th>\n      <th>Sosiaaliturvaa tulee kehittää niin, että osa nykyisistä tuista korvataan kaikille työikäisille maksettavalla, vastikkeettomalla perustulolla.</th>\n      <th>Euron ulkopuolella Suomi pärjäisi paremmin.</th>\n      <th>...</th>\n      <th>Lappi. Lappiin ei saa avata yhtään uutta kaivosta ennen kuin yhtiöiltä aletaan periä kaivosveroa.</th>\n      <th>Lappi. Mahdollisen uuden maakuntahallinnon toimintoja ja työpaikkoja on sijoitettava muuallekin kuin Rovaniemelle.</th>\n      <th>Lappi. Lapin erikoissairaanhoito on keskitettävä kokonaan Rovaniemelle Lapin keskussairaalaan.</th>\n      <th>Lappi. Alkuperäiskansojen oikeuksia koskeva ILO-sopimus pitää ratifioida seuraavalla hallituskaudella.</th>\n      <th>Lappi. Jäämeren rata pitää rakentaa.</th>\n      <th>Lappi. Lappiin ei saa avata yhtään uutta kaivosta ennen kuin yhtiöiltä aletaan periä kaivosveroa..1</th>\n      <th>Lappi. Mahdollisen uuden maakuntahallinnon toimintoja ja työpaikkoja on sijoitettava muuallekin kuin Rovaniemelle..1</th>\n      <th>Lappi. Lapin erikoissairaanhoito on keskitettävä kokonaan Rovaniemelle Lapin keskussairaalaan..1</th>\n      <th>Lappi. Alkuperäiskansojen oikeuksia koskeva ILO-sopimus pitää ratifioida seuraavalla hallituskaudella. .1</th>\n      <th>Lappi. Jäämeren rata pitää rakentaa..1</th>\n    </tr>\n  </thead>\n  <tbody>\n    <tr>\n      <th>0</th>\n      <td>Uudenmaan vaalipiiri</td>\n      <td>Kokoomus</td>\n      <td>0</td>\n      <td>2</td>\n      <td>4</td>\n      <td>4</td>\n      <td>1</td>\n      <td>5</td>\n      <td>1</td>\n      <td>2</td>\n      <td>...</td>\n      <td>NaN</td>\n      <td>NaN</td>\n      <td>NaN</td>\n      <td>NaN</td>\n      <td>NaN</td>\n      <td>NaN</td>\n      <td>NaN</td>\n      <td>NaN</td>\n      <td>NaN</td>\n      <td>NaN</td>\n    </tr>\n    <tr>\n      <th>1</th>\n      <td>Uudenmaan vaalipiiri</td>\n      <td>Suomen Kommunistinen Puolue</td>\n      <td>0</td>\n      <td>5</td>\n      <td>NaN</td>\n      <td>4</td>\n      <td>5</td>\n      <td>1</td>\n      <td>4</td>\n      <td>5</td>\n      <td>...</td>\n      <td>NaN</td>\n      <td>NaN</td>\n      <td>NaN</td>\n      <td>NaN</td>\n      <td>NaN</td>\n      <td>NaN</td>\n      <td>NaN</td>\n      <td>NaN</td>\n      <td>NaN</td>\n      <td>NaN</td>\n    </tr>\n    <tr>\n      <th>2</th>\n      <td>Uudenmaan vaalipiiri</td>\n      <td>Perussuomalaiset</td>\n      <td>0</td>\n      <td>1</td>\n      <td>5</td>\n      <td>1</td>\n      <td>2</td>\n      <td>5</td>\n      <td>1</td>\n      <td>5</td>\n      <td>...</td>\n      <td>NaN</td>\n      <td>NaN</td>\n      <td>NaN</td>\n      <td>NaN</td>\n      <td>NaN</td>\n      <td>NaN</td>\n      <td>NaN</td>\n      <td>NaN</td>\n      <td>NaN</td>\n      <td>NaN</td>\n    </tr>\n    <tr>\n      <th>3</th>\n      <td>Uudenmaan vaalipiiri</td>\n      <td>Perussuomalaiset</td>\n      <td>0</td>\n      <td>1</td>\n      <td>5</td>\n      <td>1</td>\n      <td>1</td>\n      <td>1</td>\n      <td>1</td>\n      <td>5</td>\n      <td>...</td>\n      <td>NaN</td>\n      <td>NaN</td>\n      <td>NaN</td>\n      <td>NaN</td>\n      <td>NaN</td>\n      <td>NaN</td>\n      <td>NaN</td>\n      <td>NaN</td>\n      <td>NaN</td>\n      <td>NaN</td>\n    </tr>\n    <tr>\n      <th>4</th>\n      <td>Uudenmaan vaalipiiri</td>\n      <td>Perussuomalaiset</td>\n      <td>1</td>\n      <td>1</td>\n      <td>5</td>\n      <td>1</td>\n      <td>2</td>\n      <td>5</td>\n      <td>1</td>\n      <td>5</td>\n      <td>...</td>\n      <td>NaN</td>\n      <td>NaN</td>\n      <td>NaN</td>\n      <td>NaN</td>\n      <td>NaN</td>\n      <td>NaN</td>\n      <td>NaN</td>\n      <td>NaN</td>\n      <td>NaN</td>\n      <td>NaN</td>\n    </tr>\n    <tr>\n      <th>...</th>\n      <td>...</td>\n      <td>...</td>\n      <td>...</td>\n      <td>...</td>\n      <td>...</td>\n      <td>...</td>\n      <td>...</td>\n      <td>...</td>\n      <td>...</td>\n      <td>...</td>\n      <td>...</td>\n      <td>...</td>\n      <td>...</td>\n      <td>...</td>\n      <td>...</td>\n      <td>...</td>\n      <td>...</td>\n      <td>...</td>\n      <td>...</td>\n      <td>...</td>\n      <td>...</td>\n    </tr>\n    <tr>\n      <th>2432</th>\n      <td>Lapin vaalipiiri</td>\n      <td>Kokoomus</td>\n      <td>0</td>\n      <td>4</td>\n      <td>5</td>\n      <td>1</td>\n      <td>2</td>\n      <td>5</td>\n      <td>2</td>\n      <td>1</td>\n      <td>...</td>\n      <td>2</td>\n      <td>5</td>\n      <td>1</td>\n      <td>2</td>\n      <td>2</td>\n      <td>Asia ei tule kuntoon ainaostaan mahdollisella ...</td>\n      <td>Mahdollisen maakuntahallinnon tehtäviä tulee s...</td>\n      <td>Lappi on todella laaja alue. Lapin erikoissair...</td>\n      <td>Ensin tulee päästä yksimielisyyteen saamelaisu...</td>\n      <td>Nykyinen ratasuunnitelma on todettu tutkimuksi...</td>\n    </tr>\n    <tr>\n      <th>2433</th>\n      <td>Lapin vaalipiiri</td>\n      <td>Perussuomalaiset</td>\n      <td>0</td>\n      <td>1</td>\n      <td>5</td>\n      <td>1</td>\n      <td>1</td>\n      <td>5</td>\n      <td>1</td>\n      <td>5</td>\n      <td>...</td>\n      <td>2</td>\n      <td>5</td>\n      <td>1</td>\n      <td>1</td>\n      <td>5</td>\n      <td>Kaivosten työllisyysvaikutukset on merkittäviä...</td>\n      <td>-</td>\n      <td>Kemissä Länsi Pohjan Keskussairaala on myöskin...</td>\n      <td>-</td>\n      <td>Huoltovarmuuden kannalta pitää. Maamme viennis...</td>\n    </tr>\n    <tr>\n      <th>2434</th>\n      <td>Lapin vaalipiiri</td>\n      <td>Liike Nyt</td>\n      <td>0</td>\n      <td>5</td>\n      <td>4</td>\n      <td>4</td>\n      <td>1</td>\n      <td>2</td>\n      <td>4</td>\n      <td>1</td>\n      <td>...</td>\n      <td>2</td>\n      <td>5</td>\n      <td>1</td>\n      <td>2</td>\n      <td>4</td>\n      <td>Tämä kysymys on muna-kana-ongelma. Jos kaivosv...</td>\n      <td>Tänä päivänä, voidaan hallinnollisia töitä teh...</td>\n      <td>Minusta erikoissairaanhoidon osalta voidaan te...</td>\n      <td>Mielestäni tästä pitäisi järjestää kansanäänes...</td>\n      <td>Toivon, että Jäämeren radasta järjestettäisiin...</td>\n    </tr>\n    <tr>\n      <th>2435</th>\n      <td>Lapin vaalipiiri</td>\n      <td>Kokoomus</td>\n      <td>0</td>\n      <td>2</td>\n      <td>5</td>\n      <td>1</td>\n      <td>2</td>\n      <td>4</td>\n      <td>1</td>\n      <td>2</td>\n      <td>...</td>\n      <td>2</td>\n      <td>5</td>\n      <td>2</td>\n      <td>2</td>\n      <td>5</td>\n      <td>Nyky kaivoslakia voisi tarkentaa. Tärkeintä ol...</td>\n      <td>Lapissa voidaan helposti sijoittaa muuallekin ...</td>\n      <td>Jaettu erikoisosaaminen Kemin keskussairaalan ...</td>\n      <td>En näe tarvetta. Nykytila on riittävän hyvä, s...</td>\n      <td>Ehdottomasti. Useimmat eivät näe radan kaikkia...</td>\n    </tr>\n    <tr>\n      <th>2436</th>\n      <td>Lapin vaalipiiri</td>\n      <td>Liike Nyt</td>\n      <td>0</td>\n      <td>2</td>\n      <td>5</td>\n      <td>1</td>\n      <td>2</td>\n      <td>4</td>\n      <td>2</td>\n      <td>2</td>\n      <td>...</td>\n      <td>5</td>\n      <td>5</td>\n      <td>1</td>\n      <td>5</td>\n      <td>2</td>\n      <td>Eikä kaivoksia pidä kenkätä ulkomaisille omist...</td>\n      <td>Ei ole koko Lapin etu että kaikkia toimintoja ...</td>\n      <td>Meri-Lapissa on saneeratut toimivat tilat. Mod...</td>\n      <td>Saamelaiset ovat ansainneet erityisasemansa.</td>\n      <td>Jos meillä olisi yhteys petsamoon, asia olisi ...</td>\n    </tr>\n  </tbody>\n</table>\n<p>2437 rows × 212 columns</p>\n</div>"
     },
     "metadata": {},
     "execution_count": 116
    }
   ],
   "source": [
    "df = pd.read_csv('/Users/santerivaataja/Downloads/Avoin_data_eduskuntavaalit_2019_valintatiedot.csv', delimiter=',')\n",
    "df"
   ]
  },
  {
   "cell_type": "code",
   "execution_count": 120,
   "metadata": {},
   "outputs": [],
   "source": [
    "Q = df.loc[:, 'Suomen pitää olla edelläkävijä ilmastonmuutoksen vastaisessa taistelussa, vaikka se aiheuttaisi suomalaisille kustannuksia.':'On oikein nähdä vaivaa sen eteen, ettei vahingossakaan loukkaa toista.'].replace('-', np.nan)\n",
    "Q = Q.apply(pd.to_numeric)\n",
    "Q['puolue'] = df.puolue\n",
    "Q = Q.dropna()"
   ]
  },
  {
   "cell_type": "code",
   "execution_count": 122,
   "metadata": {},
   "outputs": [],
   "source": [
    "party_map = dict(zip(Q.puolue.unique(), list(range(len(Q.puolue.unique())))))\n",
    "Q = Q.applymap(lambda x: party_map[x] if x in party_map else x)"
   ]
  },
  {
   "cell_type": "code",
   "execution_count": 125,
   "metadata": {},
   "outputs": [
    {
     "output_type": "execute_result",
     "data": {
      "text/plain": [
       "KMeans(n_clusters=22)"
      ]
     },
     "metadata": {},
     "execution_count": 125
    }
   ],
   "source": [
    "m = KMeans(len(Q.puolue.unique()))\n",
    "m.fit(Q[[i for i in Q.columns if i != 'puolue']])"
   ]
  },
  {
   "cell_type": "code",
   "execution_count": 127,
   "metadata": {},
   "outputs": [
    {
     "output_type": "stream",
     "name": "stdout",
     "text": [
      "0.02021276595744681\n"
     ]
    }
   ],
   "source": [
    "accuracy = accuracy_score(Q.puolue, m.labels_)\n",
    "print(accuracy)"
   ]
  },
  {
   "cell_type": "code",
   "execution_count": 147,
   "metadata": {},
   "outputs": [],
   "source": [
    "acc_list = list()\n",
    "for i in range(1, 101):\n",
    "    m2 = DBSCAN(eps=i)\n",
    "    m2.fit(Q[[i for i in Q.columns if i != 'puolue']])\n",
    "    acc_list.append(accuracy_score(Q.puolue, m2.labels_))\n",
    "acc_list = list(enumerate(acc_list, start=1))"
   ]
  },
  {
   "cell_type": "code",
   "execution_count": 148,
   "metadata": {},
   "outputs": [
    {
     "output_type": "execute_result",
     "data": {
      "text/plain": [
       "(8, 0.09308510638297872)"
      ]
     },
     "metadata": {},
     "execution_count": 148
    }
   ],
   "source": [
    "max(acc_list, key=lambda x: x[1])"
   ]
  },
  {
   "cell_type": "code",
   "execution_count": null,
   "metadata": {},
   "outputs": [],
   "source": []
  }
 ]
}