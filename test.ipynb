{
 "metadata": {
  "language_info": {
   "codemirror_mode": {
    "name": "ipython",
    "version": 3
   },
   "file_extension": ".py",
   "mimetype": "text/x-python",
   "name": "python",
   "nbconvert_exporter": "python",
   "pygments_lexer": "ipython3",
   "version": "3.8.5-final"
  },
  "orig_nbformat": 2,
  "kernelspec": {
   "name": "python3",
   "display_name": "Python 3",
   "language": "python"
  }
 },
 "nbformat": 4,
 "nbformat_minor": 2,
 "cells": [
  {
   "cell_type": "code",
   "execution_count": 1,
   "metadata": {},
   "outputs": [],
   "source": [
    "import csv\n",
    "import pandas as pd\n",
    "import matplotlib.pyplot as plt\n",
    "import numpy as np\n",
    "from sklearn.decomposition import PCA\n",
    "from sklearn.cluster import KMeans\n",
    "from sklearn.cluster import DBSCAN\n",
    "from sklearn.metrics import accuracy_score\n",
    "import statsmodels.api as sm\n",
    "import statsmodels.formula.api as smf\n",
    "from statsmodels.graphics.regressionplots import abline_plot\n",
    "import requests\n",
    "import json\n",
    "import pprint"
   ]
  },
  {
   "cell_type": "code",
   "execution_count": 4,
   "metadata": {},
   "outputs": [],
   "source": [
    "df = pd.read_csv('Avoin_data_eduskuntavaalit_2019_valintatiedot.csv', delimiter=',')"
   ]
  },
  {
   "cell_type": "code",
   "execution_count": 5,
   "metadata": {},
   "outputs": [
    {
     "output_type": "execute_result",
     "data": {
      "text/plain": [
       "             vaalipiiri                       puolue  \\\n",
       "0  Uudenmaan vaalipiiri                     Kokoomus   \n",
       "1  Uudenmaan vaalipiiri  Suomen Kommunistinen Puolue   \n",
       "2  Uudenmaan vaalipiiri             Perussuomalaiset   \n",
       "3  Uudenmaan vaalipiiri             Perussuomalaiset   \n",
       "4  Uudenmaan vaalipiiri             Perussuomalaiset   \n",
       "\n",
       "   Valintatieto (0=ei valita, 1=valitaan, 2=varalla)  \\\n",
       "0                                                  0   \n",
       "1                                                  0   \n",
       "2                                                  0   \n",
       "3                                                  0   \n",
       "4                                                  1   \n",
       "\n",
       "  Suomen pitää olla edelläkävijä ilmastonmuutoksen vastaisessa taistelussa, vaikka se aiheuttaisi suomalaisille kustannuksia.  \\\n",
       "0                                                  2                                                                            \n",
       "1                                                  5                                                                            \n",
       "2                                                  1                                                                            \n",
       "3                                                  1                                                                            \n",
       "4                                                  1                                                                            \n",
       "\n",
       "  Suomen ei pidä kiirehtiä kieltämään uusien bensa- ja dieselautojen myyntiä.  \\\n",
       "0                                                  4                            \n",
       "1                                                NaN                            \n",
       "2                                                  5                            \n",
       "3                                                  5                            \n",
       "4                                                  5                            \n",
       "\n",
       "  Valtion pitää ohjata suomalaiset syömään vähemmän lihaa esimerkiksi verotuksen avulla.  \\\n",
       "0                                                  4                                       \n",
       "1                                                  4                                       \n",
       "2                                                  1                                       \n",
       "3                                                  1                                       \n",
       "4                                                  1                                       \n",
       "\n",
       "  Metsiä hakataan Suomessa liikaa.  \\\n",
       "0                                1   \n",
       "1                                5   \n",
       "2                                2   \n",
       "3                                1   \n",
       "4                                2   \n",
       "\n",
       "  Kun valtion menoja ja tuloja tasapainotetaan, se on tehtävä mieluummin menoja karsimalla kuin veroja kiristämällä.  \\\n",
       "0                                                  5                                                                   \n",
       "1                                                  1                                                                   \n",
       "2                                                  5                                                                   \n",
       "3                                                  1                                                                   \n",
       "4                                                  5                                                                   \n",
       "\n",
       "  Sosiaaliturvaa tulee kehittää niin, että osa nykyisistä tuista korvataan kaikille työikäisille maksettavalla, vastikkeettomalla perustulolla.  \\\n",
       "0                                                  1                                                                                              \n",
       "1                                                  4                                                                                              \n",
       "2                                                  1                                                                                              \n",
       "3                                                  1                                                                                              \n",
       "4                                                  1                                                                                              \n",
       "\n",
       "  Euron ulkopuolella Suomi pärjäisi paremmin.  ...  \\\n",
       "0                                           2  ...   \n",
       "1                                           5  ...   \n",
       "2                                           5  ...   \n",
       "3                                           5  ...   \n",
       "4                                           5  ...   \n",
       "\n",
       "  Lappi. Lappiin ei saa avata yhtään uutta kaivosta ennen kuin yhtiöiltä aletaan periä kaivosveroa.  \\\n",
       "0                                                NaN                                                  \n",
       "1                                                NaN                                                  \n",
       "2                                                NaN                                                  \n",
       "3                                                NaN                                                  \n",
       "4                                                NaN                                                  \n",
       "\n",
       "  Lappi. Mahdollisen uuden maakuntahallinnon toimintoja ja työpaikkoja on sijoitettava muuallekin kuin Rovaniemelle.  \\\n",
       "0                                                NaN                                                                   \n",
       "1                                                NaN                                                                   \n",
       "2                                                NaN                                                                   \n",
       "3                                                NaN                                                                   \n",
       "4                                                NaN                                                                   \n",
       "\n",
       "  Lappi. Lapin erikoissairaanhoito on keskitettävä kokonaan Rovaniemelle Lapin keskussairaalaan.  \\\n",
       "0                                                NaN                                               \n",
       "1                                                NaN                                               \n",
       "2                                                NaN                                               \n",
       "3                                                NaN                                               \n",
       "4                                                NaN                                               \n",
       "\n",
       "  Lappi. Alkuperäiskansojen oikeuksia koskeva ILO-sopimus pitää ratifioida seuraavalla hallituskaudella.   \\\n",
       "0                                                NaN                                                        \n",
       "1                                                NaN                                                        \n",
       "2                                                NaN                                                        \n",
       "3                                                NaN                                                        \n",
       "4                                                NaN                                                        \n",
       "\n",
       "  Lappi. Jäämeren rata pitää rakentaa.  \\\n",
       "0                                  NaN   \n",
       "1                                  NaN   \n",
       "2                                  NaN   \n",
       "3                                  NaN   \n",
       "4                                  NaN   \n",
       "\n",
       "  Lappi. Lappiin ei saa avata yhtään uutta kaivosta ennen kuin yhtiöiltä aletaan periä kaivosveroa..1  \\\n",
       "0                                                NaN                                                    \n",
       "1                                                NaN                                                    \n",
       "2                                                NaN                                                    \n",
       "3                                                NaN                                                    \n",
       "4                                                NaN                                                    \n",
       "\n",
       "  Lappi. Mahdollisen uuden maakuntahallinnon toimintoja ja työpaikkoja on sijoitettava muuallekin kuin Rovaniemelle..1  \\\n",
       "0                                                NaN                                                                     \n",
       "1                                                NaN                                                                     \n",
       "2                                                NaN                                                                     \n",
       "3                                                NaN                                                                     \n",
       "4                                                NaN                                                                     \n",
       "\n",
       "  Lappi. Lapin erikoissairaanhoito on keskitettävä kokonaan Rovaniemelle Lapin keskussairaalaan..1  \\\n",
       "0                                                NaN                                                 \n",
       "1                                                NaN                                                 \n",
       "2                                                NaN                                                 \n",
       "3                                                NaN                                                 \n",
       "4                                                NaN                                                 \n",
       "\n",
       "  Lappi. Alkuperäiskansojen oikeuksia koskeva ILO-sopimus pitää ratifioida seuraavalla hallituskaudella. .1  \\\n",
       "0                                                NaN                                                          \n",
       "1                                                NaN                                                          \n",
       "2                                                NaN                                                          \n",
       "3                                                NaN                                                          \n",
       "4                                                NaN                                                          \n",
       "\n",
       "  Lappi. Jäämeren rata pitää rakentaa..1  \n",
       "0                                    NaN  \n",
       "1                                    NaN  \n",
       "2                                    NaN  \n",
       "3                                    NaN  \n",
       "4                                    NaN  \n",
       "\n",
       "[5 rows x 212 columns]"
      ],
      "text/html": "<div>\n<style scoped>\n    .dataframe tbody tr th:only-of-type {\n        vertical-align: middle;\n    }\n\n    .dataframe tbody tr th {\n        vertical-align: top;\n    }\n\n    .dataframe thead th {\n        text-align: right;\n    }\n</style>\n<table border=\"1\" class=\"dataframe\">\n  <thead>\n    <tr style=\"text-align: right;\">\n      <th></th>\n      <th>vaalipiiri</th>\n      <th>puolue</th>\n      <th>Valintatieto (0=ei valita, 1=valitaan, 2=varalla)</th>\n      <th>Suomen pitää olla edelläkävijä ilmastonmuutoksen vastaisessa taistelussa, vaikka se aiheuttaisi suomalaisille kustannuksia.</th>\n      <th>Suomen ei pidä kiirehtiä kieltämään uusien bensa- ja dieselautojen myyntiä.</th>\n      <th>Valtion pitää ohjata suomalaiset syömään vähemmän lihaa esimerkiksi verotuksen avulla.</th>\n      <th>Metsiä hakataan Suomessa liikaa.</th>\n      <th>Kun valtion menoja ja tuloja tasapainotetaan, se on tehtävä mieluummin menoja karsimalla kuin veroja kiristämällä.</th>\n      <th>Sosiaaliturvaa tulee kehittää niin, että osa nykyisistä tuista korvataan kaikille työikäisille maksettavalla, vastikkeettomalla perustulolla.</th>\n      <th>Euron ulkopuolella Suomi pärjäisi paremmin.</th>\n      <th>...</th>\n      <th>Lappi. Lappiin ei saa avata yhtään uutta kaivosta ennen kuin yhtiöiltä aletaan periä kaivosveroa.</th>\n      <th>Lappi. Mahdollisen uuden maakuntahallinnon toimintoja ja työpaikkoja on sijoitettava muuallekin kuin Rovaniemelle.</th>\n      <th>Lappi. Lapin erikoissairaanhoito on keskitettävä kokonaan Rovaniemelle Lapin keskussairaalaan.</th>\n      <th>Lappi. Alkuperäiskansojen oikeuksia koskeva ILO-sopimus pitää ratifioida seuraavalla hallituskaudella.</th>\n      <th>Lappi. Jäämeren rata pitää rakentaa.</th>\n      <th>Lappi. Lappiin ei saa avata yhtään uutta kaivosta ennen kuin yhtiöiltä aletaan periä kaivosveroa..1</th>\n      <th>Lappi. Mahdollisen uuden maakuntahallinnon toimintoja ja työpaikkoja on sijoitettava muuallekin kuin Rovaniemelle..1</th>\n      <th>Lappi. Lapin erikoissairaanhoito on keskitettävä kokonaan Rovaniemelle Lapin keskussairaalaan..1</th>\n      <th>Lappi. Alkuperäiskansojen oikeuksia koskeva ILO-sopimus pitää ratifioida seuraavalla hallituskaudella. .1</th>\n      <th>Lappi. Jäämeren rata pitää rakentaa..1</th>\n    </tr>\n  </thead>\n  <tbody>\n    <tr>\n      <th>0</th>\n      <td>Uudenmaan vaalipiiri</td>\n      <td>Kokoomus</td>\n      <td>0</td>\n      <td>2</td>\n      <td>4</td>\n      <td>4</td>\n      <td>1</td>\n      <td>5</td>\n      <td>1</td>\n      <td>2</td>\n      <td>...</td>\n      <td>NaN</td>\n      <td>NaN</td>\n      <td>NaN</td>\n      <td>NaN</td>\n      <td>NaN</td>\n      <td>NaN</td>\n      <td>NaN</td>\n      <td>NaN</td>\n      <td>NaN</td>\n      <td>NaN</td>\n    </tr>\n    <tr>\n      <th>1</th>\n      <td>Uudenmaan vaalipiiri</td>\n      <td>Suomen Kommunistinen Puolue</td>\n      <td>0</td>\n      <td>5</td>\n      <td>NaN</td>\n      <td>4</td>\n      <td>5</td>\n      <td>1</td>\n      <td>4</td>\n      <td>5</td>\n      <td>...</td>\n      <td>NaN</td>\n      <td>NaN</td>\n      <td>NaN</td>\n      <td>NaN</td>\n      <td>NaN</td>\n      <td>NaN</td>\n      <td>NaN</td>\n      <td>NaN</td>\n      <td>NaN</td>\n      <td>NaN</td>\n    </tr>\n    <tr>\n      <th>2</th>\n      <td>Uudenmaan vaalipiiri</td>\n      <td>Perussuomalaiset</td>\n      <td>0</td>\n      <td>1</td>\n      <td>5</td>\n      <td>1</td>\n      <td>2</td>\n      <td>5</td>\n      <td>1</td>\n      <td>5</td>\n      <td>...</td>\n      <td>NaN</td>\n      <td>NaN</td>\n      <td>NaN</td>\n      <td>NaN</td>\n      <td>NaN</td>\n      <td>NaN</td>\n      <td>NaN</td>\n      <td>NaN</td>\n      <td>NaN</td>\n      <td>NaN</td>\n    </tr>\n    <tr>\n      <th>3</th>\n      <td>Uudenmaan vaalipiiri</td>\n      <td>Perussuomalaiset</td>\n      <td>0</td>\n      <td>1</td>\n      <td>5</td>\n      <td>1</td>\n      <td>1</td>\n      <td>1</td>\n      <td>1</td>\n      <td>5</td>\n      <td>...</td>\n      <td>NaN</td>\n      <td>NaN</td>\n      <td>NaN</td>\n      <td>NaN</td>\n      <td>NaN</td>\n      <td>NaN</td>\n      <td>NaN</td>\n      <td>NaN</td>\n      <td>NaN</td>\n      <td>NaN</td>\n    </tr>\n    <tr>\n      <th>4</th>\n      <td>Uudenmaan vaalipiiri</td>\n      <td>Perussuomalaiset</td>\n      <td>1</td>\n      <td>1</td>\n      <td>5</td>\n      <td>1</td>\n      <td>2</td>\n      <td>5</td>\n      <td>1</td>\n      <td>5</td>\n      <td>...</td>\n      <td>NaN</td>\n      <td>NaN</td>\n      <td>NaN</td>\n      <td>NaN</td>\n      <td>NaN</td>\n      <td>NaN</td>\n      <td>NaN</td>\n      <td>NaN</td>\n      <td>NaN</td>\n      <td>NaN</td>\n    </tr>\n  </tbody>\n</table>\n<p>5 rows × 212 columns</p>\n</div>"
     },
     "metadata": {},
     "execution_count": 5
    }
   ],
   "source": [
    "df.head()"
   ]
  },
  {
   "cell_type": "code",
   "execution_count": 6,
   "metadata": {},
   "outputs": [
    {
     "output_type": "execute_result",
     "data": {
      "text/plain": [
       "(2437, 212)"
      ]
     },
     "metadata": {},
     "execution_count": 6
    }
   ],
   "source": [
    "df.shape"
   ]
  },
  {
   "cell_type": "code",
   "execution_count": 12,
   "metadata": {
    "tags": [
     "outputPrepend"
    ]
   },
   "outputs": [
    {
     "output_type": "stream",
     "name": "stdout",
     "text": [
      "lle kustannuksia.',\n 'Suomen ei pidä kiirehtiä kieltämään uusien bensa- ja dieselautojen myyntiä.',\n 'Valtion pitää ohjata suomalaiset syömään vähemmän lihaa esimerkiksi '\n 'verotuksen avulla.',\n 'Metsiä hakataan Suomessa liikaa.',\n 'Kun valtion menoja ja tuloja tasapainotetaan, se on tehtävä mieluummin '\n 'menoja karsimalla kuin veroja kiristämällä.',\n 'Sosiaaliturvaa tulee kehittää niin, että osa nykyisistä tuista korvataan '\n 'kaikille työikäisille maksettavalla, vastikkeettomalla perustulolla.',\n 'Euron ulkopuolella Suomi pärjäisi paremmin.',\n 'Sosiaali- ja terveyspalvelut on tuotettava ensisijaisesti julkisina '\n 'palveluina.',\n 'Vanhustenhoidon ulkoistamista yksityisille toimijoille tulee lisätä.',\n 'Parantumattomasti sairaalla on oltava oikeus eutanasiaan.',\n 'Sukupuolen korjaamisen tulee olla mahdollista myös alle 18-vuotiaille.',\n 'Viinit ja vahvat oluet pitää saada ruokakauppoihin.',\n 'Energiajuomien myyminen alle 15-vuotiaille on kiellettävä. ',\n 'Nuuskan, purutupakan ja nenänuuskan matkustajatuonnin raja lasketaan 1000 '\n 'grammasta 100 grammaan vuorokaudessa.',\n 'Perhevapaita pitää uudistaa niin, että vapaat jakautuvat tasan vanhempien '\n 'kesken.',\n 'Oppivelvollisuus pitää ulottaa myös ammatilliseen koulutukseen ja lukioon.',\n 'Koulujen kesälomia tulee siirtää kahdella viikolla niin, että ne alkavat '\n 'kesäkuun puolivälissä ja päättyvät elokuun lopulla.',\n 'Korkeakoulujen määrää pitää vähentää ja vapautuneet voimavarat käyttää '\n 'huippuopetukseen ja -tutkimukseen.',\n 'Maahanmuuttajien määrän kasvu on lisännyt turvattomuutta Suomessa.',\n 'Sosiaali- ja terveyspalveluiden rahoittaminen vaatii työperäisen '\n 'maahanmuuton merkittävää lisäämistä.',\n 'Nato-jäsenyys vahvistaisi Suomen turvallisuuspoliittista asemaa.',\n 'Vihapuhe tulee määritellä ja asettaa rangaistavaksi rikoslaissa.',\n 'Perinteiset arvot ovat hyvän elämän perusta.',\n 'Suomessa tarvitaan nyt koviakin keinoja järjestyksen ja tavallisten ihmisten '\n 'puolustamiseksi.',\n 'On oikein, että yhteiskunnassa jotkut ryhmät ovat paremmassa asemassa kuin '\n 'toiset. ',\n 'Suomen lakien pitäisi nykyistä vapaammin antaa ihmisten tehdä omat '\n 'ratkaisunsa ja kantaa niiden seuraukset.',\n 'Poliitikon velvollisuus on ennen kaikkea ajaa omien äänestäjiensä etuja.',\n 'On olemassa pyhiä tai muuten yksilöä suurempia asioita, joita täytyy '\n 'puolustaa silloinkin, kun se vaatii omien etujen uhraamista.',\n 'On oikein nähdä vaivaa sen eteen, ettei vahingossakaan loukkaa toista.',\n 'Suomen pitää olla edelläkävijä ilmastonmuutoksen vastaisessa taistelussa, '\n 'vaikka se aiheuttaisi suomalaisille kustannuksia..1',\n 'Suomen ei pidä kiirehtiä kieltämään uusien bensa- ja dieselautojen '\n 'myyntiä..1',\n 'Valtion pitää ohjata suomalaiset syömään vähemmän lihaa esimerkiksi '\n 'verotuksen avulla..1',\n 'Metsiä hakataan Suomessa liikaa..1',\n 'Kun valtion menoja ja tuloja tasapainotetaan, se on tehtävä mieluummin '\n 'menoja karsimalla kuin veroja kiristämällä..1',\n 'Sosiaaliturvaa tulee kehittää niin, että osa nykyisistä tuista korvataan '\n 'kaikille työikäisille maksettavalla, vastikkeettomalla perustulolla..1',\n 'Euron ulkopuolella Suomi pärjäisi paremmin..1',\n 'Sosiaali- ja terveyspalvelut on tuotettava ensisijaisesti julkisina '\n 'palveluina..1',\n 'Vanhustenhoidon ulkoistamista yksityisille toimijoille tulee lisätä..1',\n 'Parantumattomasti sairaalla on oltava oikeus eutanasiaan..1',\n 'Sukupuolen korjaamisen tulee olla mahdollista myös alle 18-vuotiaille..1',\n 'Viinit ja vahvat oluet pitää saada ruokakauppoihin..1',\n 'Energiajuomien myyminen alle 15-vuotiaille on kiellettävä. .1',\n 'Nuuskan, purutupakan ja nenänuuskan matkustajatuonnin raja lasketaan 1000 '\n 'grammasta 100 grammaan vuorokaudessa..1',\n 'Perhevapaita pitää uudistaa niin, että vapaat jakautuvat tasan vanhempien '\n 'kesken..1',\n 'Oppivelvollisuus pitää ulottaa myös ammatilliseen koulutukseen ja lukioon..1',\n 'Koulujen kesälomia tulee siirtää kahdella viikolla niin, että ne alkavat '\n 'kesäkuun puolivälissä ja päättyvät elokuun lopulla..1',\n 'Korkeakoulujen määrää pitää vähentää ja vapautuneet voimavarat käyttää '\n 'huippuopetukseen ja -tutkimukseen..1',\n 'Maahanmuuttajien määrän kasvu on lisännyt turvattomuutta Suomessa..1',\n 'Sosiaali- ja terveyspalveluiden rahoittaminen vaatii työperäisen '\n 'maahanmuuton merkittävää lisäämistä..1',\n 'Nato-jäsenyys vahvistaisi Suomen turvallisuuspoliittista asemaa..1',\n 'Vihapuhe tulee määritellä ja asettaa rangaistavaksi rikoslaissa..1',\n 'Perinteiset arvot ovat hyvän elämän perusta..1',\n 'Suomessa tarvitaan nyt koviakin keinoja järjestyksen ja tavallisten ihmisten '\n 'puolustamiseksi..1',\n 'On oikein, että yhteiskunnassa jotkut ryhmät ovat paremmassa asemassa kuin '\n 'toiset. .1',\n 'Suomen lakien pitäisi nykyistä vapaammin antaa ihmisten tehdä omat '\n 'ratkaisunsa ja kantaa niiden seuraukset..1',\n 'Poliitikon velvollisuus on ennen kaikkea ajaa omien äänestäjiensä etuja..1',\n 'On olemassa pyhiä tai muuten yksilöä suurempia asioita, joita täytyy '\n 'puolustaa silloinkin, kun se vaatii omien etujen uhraamista..1',\n 'On oikein nähdä vaivaa sen eteen, ettei vahingossakaan loukkaa toista..1',\n 'Kuinka vanha olet?',\n 'Mitkä ovat kolme vaalilupaustasi? Vaalilupaus 1:',\n 'Mitkä ovat kolme vaalilupaustasi? Vaalilupaus 2:',\n 'Mitkä ovat kolme vaalilupaustasi? Vaalilupaus 3:',\n 'Sukupuolesi',\n 'Äidinkielesi',\n 'Ammattisi',\n 'Koulutuksesi',\n 'Kielitaitosi',\n 'Poliittinen kokemuksesi',\n 'Käytän vaaleihin rahaa',\n 'Ulkopuolisen rahoituksen osuus',\n 'Tärkein ulkopuolinen rahoituslähde',\n 'Missä valiokunnassa haluaisit mieluiten vaikuttaa?',\n 'Missä valiokunnassa haluaisit vaikuttaa toiseksi mieluiten?',\n 'Miksi juuri sinut pitäisi valita eduskuntaan?',\n 'Kuka on poliittinen esikuvasi?',\n 'Perustele miksi edellä mainittu henkilö on poliittinen esikuvasi.',\n 'Mikä on se ruokalaji, jota laitat, kun haluat esitellä taitojasi keittiössä? '\n '(Yle Kioskin vaalikonetta varten.)',\n 'Mikä on oudoin fakta, jonka tiedät? (Yle Kioskin vaalikonetta varten.)',\n 'Mitä pelkäät? (Yle Kioskin vaalikonetta varten.)',\n 'Uusimaa. Kaatolupia on myönnettävä nykyistä enemmän susikannan '\n 'rajoittamiseksi.',\n 'Uusimaa. Loviisan ydinvoimalalle pitää myöntää jatkolupa vuoden 2030 '\n 'jälkeenkin.',\n 'Uusimaa. Uudellemaalle pitää perustaa lisää osaamiskeskuksia, joissa '\n 'maahanmuuttajat opiskelevat itselleen nopeasti ammatin ja oppivat kielen.',\n 'Uusimaa. Dragsvikin varuskunta pitää muuttaa kaksikieliseksi.',\n 'Uusimaa. Metro tulee jatkaa Helsingistä Sipooseen.',\n 'Uusimaa. Kaatolupia on myönnettävä nykyistä enemmän susikannan '\n 'rajoittamiseksi..1',\n 'Uusimaa. Loviisan ydinvoimalalle pitää myöntää jatkolupa vuoden 2030 '\n 'jälkeenkin..1',\n 'Uusimaa. Uudellemaalle pitää perustaa lisää osaamiskeskuksia, joissa '\n 'maahanmuuttajat opiskelevat itselleen nopeasti ammatin ja oppivat kielen..1',\n 'Uusimaa. Dragsvikin varuskunta pitää muuttaa kaksikieliseksi..1',\n 'Uusimaa. Metro tulee jatkaa Helsingistä Sipooseen..1',\n 'Helsinki. Kun Helsinki sulkee hiilivoimaloita, voidaan korvaavaa energiaa '\n 'tuottaa ydinvoimalla.',\n 'Helsinki. Viranhaltijoiden kaksikielisyysvaatimuksia pitää lieventää, jotta '\n 'maahanmuuttajien työllistyminen helpottuu.',\n 'Helsinki. Puolustusvoimien tulee luopua Santahaminan varuskuntasaaresta, '\n 'jotta sinne voi rakentaa asuntoja.',\n 'Helsinki. Helsingin seudulla pitää ottaa käyttöön ruuhkamaksut.',\n 'Helsinki. Metro tulee jatkaa Helsingistä Sipooseen.',\n 'Helsinki. Kun Helsinki sulkee hiilivoimaloita, voidaan korvaavaa energiaa '\n 'tuottaa ydinvoimalla..1',\n 'Helsinki. Viranhaltijoiden kaksikielisyysvaatimuksia pitää lieventää, jotta '\n 'maahanmuuttajien työllistyminen helpottuu..1',\n 'Helsinki. Puolustusvoimien tulee luopua Santahaminan varuskuntasaaresta, '\n 'jotta sinne voi rakentaa asuntoja..1',\n 'Helsinki. Helsingin seudulla pitää ottaa käyttöön ruuhkamaksut..1',\n 'Helsinki. Metro tulee jatkaa Helsingistä Sipooseen..1',\n 'Varsinais-Suomi. Kaatolupia on myönnettävä nykyistä enemmän susi-, '\n 'merimetso- ja hyljekantojen rajoittamiseksi.',\n 'Varsinais-Suomi. Tehokkain tapa vauhdittaa Varsinais-Suomen talouskasvua on '\n 'myöntää Turun yliopistolle lupa perustaa teknillinen tiedekunta. ',\n 'Varsinais-Suomi. Suomen on turvallisuustilanteen vuoksi kiristettävä ehtoja, '\n 'joilla EU:n ulkopuolisten maiden kansalaiset saavat ostaa tontteja '\n 'Saaristomereltä.',\n 'Varsinais-Suomi. Valtion on panostettava mieluummin tunnin junaan Turusta '\n 'Helsinkiin kuin kasitien parantamiseen.',\n 'Varsinais-Suomi. Saariston yhteysalusliikenteen jatkuvuuden turvaamiseksi '\n 'liikenteen tulisi olla maksullista kesäasukkaille ja matkailijoille.',\n 'Varsinais-Suomi. Kaatolupia on myönnettävä nykyistä enemmän susi-, '\n 'merimetso- ja hyljekantojen rajoittamiseksi..1',\n 'Varsinais-Suomi. Tehokkain tapa vauhdittaa Varsinais-Suomen talouskasvua on '\n 'myöntää Turun yliopistolle lupa perustaa teknillinen tiedekunta. .1',\n 'Varsinais-Suomi. Suomen on turvallisuustilanteen vuoksi kiristettävä ehtoja, '\n 'joilla EU:n ulkopuolisten maiden kansalaiset saavat ostaa tontteja '\n 'Saaristomereltä..1',\n 'Varsinais-Suomi. Valtion on panostettava mieluummin tunnin junaan Turusta '\n 'Helsinkiin kuin kasitien parantamiseen..1',\n 'Varsinais-Suomi. Saariston yhteysalusliikenteen jatkuvuuden turvaamiseksi '\n 'liikenteen tulisi olla maksullista kesäasukkaille ja matkailijoille..1',\n 'Satakunta. Satakuntaan tulisi rakentaa runsaasti lisää tuulivoimaloita.',\n 'Satakunta. Satakuntaan tulee myöntää entistä enemmän kaatolupia susikannan '\n 'olennaiseksi pienentämiseksi.',\n 'Satakunta. Olkiluoto 4:n rakentaminen olisi valtava myönteinen ilmastoteko.',\n 'Satakunta. Satakunnan erikoissairaanhoito on keskitettävä kokonaisuudessaan '\n 'Poriin.',\n 'Satakunta. Porin lentokentän henkilöliikenteen tukeminen olisi rahan '\n 'haaskausta.',\n 'Satakunta. Satakuntaan tulisi rakentaa runsaasti lisää tuulivoimaloita..1',\n 'Satakunta. Satakuntaan tulee myöntää entistä enemmän kaatolupia susikannan '\n 'olennaiseksi pienentämiseksi..1',\n 'Satakunta. Olkiluoto 4:n rakentaminen olisi valtava myönteinen '\n 'ilmastoteko..1',\n 'Satakunta. Satakunnan erikoissairaanhoito on keskitettävä kokonaisuudessaan '\n 'Poriin..1',\n 'Satakunta. Porin lentokentän henkilöliikenteen tukeminen olisi rahan '\n 'haaskausta..1',\n 'Ahvenanmaa. llmastonmuutoksen hillitsemiseen tähtäävät toimet eivät saa '\n 'vaikeuttaa Ahvenanmaan talouskasvua.',\n 'Ahvenanmaa. Ahvenanmaan erivapauksia on rajoitettava. ',\n 'Ahvenanmaa. Ahvenanmaalaisten verotuskäytännöt on tehtävä yhtenäiseksi '\n 'manner-Suomen kanssa.',\n 'Ahvenanmaa. Suomen kielen asemaa Ahvenanmaalla tulisi parantaa.',\n 'Ahvenanmaa. Ahvenanmaan demilitarisointi tulisi ottaa uudelleen pohdintaan '\n 'Itämerellä kasvaneen sotilaallisen aktiivisuuden vuoksi.',\n 'Ahvenanmaa. llmastonmuutoksen hillitsemiseen tähtäävät toimet eivät saa '\n 'vaikeuttaa Ahvenanmaan talouskasvua..1',\n 'Ahvenanmaa. Ahvenanmaan erivapauksia on rajoitettava. .1',\n 'Ahvenanmaa. Ahvenanmaalaisten verotuskäytännöt on tehtävä yhtenäiseksi '\n 'manner-Suomen kanssa..1',\n 'Ahvenanmaa. Suomen kielen asemaa Ahvenanmaalla tulisi parantaa..1',\n 'Ahvenanmaa. Ahvenanmaan demilitarisointi tulisi ottaa uudelleen pohdintaan '\n 'Itämerellä kasvaneen sotilaallisen aktiivisuuden vuoksi..1',\n 'Häme. Hämeeseen ei saa avata yhtään uutta kaivosta ennen kuin yhtiöiltä '\n 'aletaan periä kaivosveroa.',\n 'Häme. Hämeeseen tulisi rakentaa runsaasti lisää tuulivoimaloita.',\n 'Häme. Suomen pitää hakea järjestettäväkseen talviolympiakisoja, joissa Lahti '\n 'olisi yhtenä isäntäkaupunkina.',\n 'Häme. Pääradan kehittäminen on tärkeämpää kuin junayhteyksien parantaminen '\n 'Lahden ja lentokentän välillä. ',\n 'Häme. Tietulleja voidaan kerätä Hämeen teiden kunnossapidon parantamiseksi. ',\n 'Häme. Hämeeseen ei saa avata yhtään uutta kaivosta ennen kuin yhtiöiltä '\n 'aletaan periä kaivosveroa..1',\n 'Häme. Hämeeseen tulisi rakentaa runsaasti lisää tuulivoimaloita..1',\n 'Häme. Suomen pitää hakea järjestettäväkseen talviolympiakisoja, joissa Lahti '\n 'olisi yhtenä isäntäkaupunkina..1',\n 'Häme. Pääradan kehittäminen on tärkeämpää kuin junayhteyksien parantaminen '\n 'Lahden ja lentokentän välillä. .1',\n 'Häme. Tietulleja voidaan kerätä Hämeen teiden kunnossapidon parantamiseksi. '\n '.1',\n 'Pirkanmaa. Tampereen ei pidä enää antaa täyttää järvien rantoja rakentamista '\n 'varten.',\n 'Pirkanmaa. Valtion pitää osallistua Oriveden kultakaivokselta löytyneen '\n 'kaatopaikan puhdistamisen kustannuksiin.',\n 'Pirkanmaa. Raitiotien rakentamiseen Tampereen lähikuntiin on varattava '\n 'suunnittelurahaa jo tulevalla vaalikaudella.',\n 'Pirkanmaa. Tampereen rantaväylän ruuhkien helpottaminen on tärkeämpää kuin '\n 'joukkoliikenteen kehittäminen.',\n 'Pirkanmaa. Helsinki-Tampere-junayhteyttä on parannettava niin, että juna '\n 'kulkee kaupunkien välin vain tunnissa.',\n 'Pirkanmaa. Tampereen ei pidä enää antaa täyttää järvien rantoja rakentamista '\n 'varten..1',\n 'Pirkanmaa. Valtion pitää osallistua Oriveden kultakaivokselta löytyneen '\n 'kaatopaikan puhdistamisen kustannuksiin..1',\n 'Pirkanmaa. Raitiotien rakentamiseen Tampereen lähikuntiin on varattava '\n 'suunnittelurahaa jo tulevalla vaalikaudella..1',\n 'Pirkanmaa. Tampereen rantaväylän ruuhkien helpottaminen on tärkeämpää kuin '\n 'joukkoliikenteen kehittäminen..1',\n 'Pirkanmaa. Helsinki-Tampere-junayhteyttä on parannettava niin, että juna '\n 'kulkee kaupunkien välin vain tunnissa..1',\n 'Kaakkois-Suomi. Saimaan luontoarvoista voidaan tinkiä, jotta '\n 'kaivosteollisuuteen syntyisi uusia työpaikkoja.',\n 'Kaakkois-Suomi. Lentoliikenteeseen tulee panostaa Kaakkois-Suomessa '\n 'ilmastonmuutoksesta huolimatta.',\n 'Kaakkois-Suomi. Kaakkois-Suomeen riittää yksi ammattikorkeakoulu ja yksi '\n 'yliopisto. ',\n 'Kaakkois-Suomi. Helsingistä Kouvolaan on rakennettava oikorata eli niin '\n 'sanottu itärata.',\n 'Kaakkois-Suomi. Parikkalan rajanylityspaikka tulee avata kansainväliselle '\n 'liikenteelle.',\n 'Kaakkois-Suomi. Saimaan luontoarvoista voidaan tinkiä, jotta '\n 'kaivosteollisuuteen syntyisi uusia työpaikkoja..1',\n 'Kaakkois-Suomi. Lentoliikenteeseen tulee panostaa Kaakkois-Suomessa '\n 'ilmastonmuutoksesta huolimatta..1',\n 'Kaakkois-Suomi. Kaakkois-Suomeen riittää yksi ammattikorkeakoulu ja yksi '\n 'yliopisto. .1',\n 'Kaakkois-Suomi. Helsingistä Kouvolaan on rakennettava oikorata eli niin '\n 'sanottu itärata..1',\n 'Kaakkois-Suomi. Parikkalan rajanylityspaikka tulee avata kansainväliselle '\n 'liikenteelle..1',\n 'Savo-Karjala. Jos koululaisen koulumatkan pituus on yli tunnin suuntaansa, '\n 'on yhtenä päivänä viikossa oltava mahdollisuus etäkoulunkäyntiin.',\n 'Savo-Karjala. Suomen pitää edistää viisumivapautta Venäjän ja Suomen '\n 'välillä.',\n 'Savo-Karjala. Pohjois-Karjalan prikaati tulee perustaa uudelleen.',\n 'Savo-Karjala. Nykyistä nopeamman junayhteyden rakentaminen Joensuusta ja '\n 'Kuopiosta Helsinkiin on alueen tärkein liikennehanke.',\n 'Savo-Karjala. Raitiotieliikenne on realistinen tapa parantaa julkista '\n 'liikennettä Itä-Suomessa.',\n 'Savo-Karjala. Jos koululaisen koulumatkan pituus on yli tunnin suuntaansa, '\n 'on yhtenä päivänä viikossa oltava mahdollisuus etäkoulunkäyntiin..1',\n 'Savo-Karjala. Suomen pitää edistää viisumivapautta Venäjän ja Suomen '\n 'välillä..1',\n 'Savo-Karjala. Pohjois-Karjalan prikaati tulee perustaa uudelleen..1',\n 'Savo-Karjala. Nykyistä nopeamman junayhteyden rakentaminen Joensuusta ja '\n 'Kuopiosta Helsinkiin on alueen tärkein liikennehanke..1',\n 'Savo-Karjala. Raitiotieliikenne on realistinen tapa parantaa julkista '\n 'liikennettä Itä-Suomessa..1',\n 'Vaasa. Kaatolupia on myönnettävä nykyistä enemmän susi-, merimetso- ja '\n 'hyljekantojen rajoittamiseksi.\\n',\n 'Vaasa. Turpeen energiakäytöstä tulee luopua.\\n',\n 'Vaasa. Turkistarhaus pitäisi kieltää lailla.',\n 'Vaasa. Vaasan keskussairaalan pitäisi olla laajan päivystyksen sairaala.\\n',\n 'Vaasa. Maahanmuuttoa pitää lisätä, jotta maakuntien reunakunnissakin '\n 'riittäisi asukkaita ja työvoimaa. \\n',\n 'Vaasa. Kaatolupia on myönnettävä nykyistä enemmän susi-, merimetso- ja '\n 'hyljekantojen rajoittamiseksi.\\n'\n '.1',\n 'Vaasa. Turpeen energiakäytöstä tulee luopua.\\n.1',\n 'Vaasa. Turkistarhaus pitäisi kieltää lailla..1',\n 'Vaasa. Vaasan keskussairaalan pitäisi olla laajan päivystyksen sairaala.\\n.1',\n 'Vaasa. Maahanmuuttoa pitää lisätä, jotta maakuntien reunakunnissakin '\n 'riittäisi asukkaita ja työvoimaa. \\n'\n '.1',\n 'Keski-Suomi. Jyväskylän kaupunginteatterin ja museoiden kunnostamiseen on '\n 'seuraavalla hallituskaudella ohjattava merkittäviä valtionavustuksia.',\n 'Keski-Suomi. Sosiaali- ja terveyspalveluiden järjestäminen on keskitettävä '\n 'Keski-Suomessa yhteisen hallinnon alle, vaikkei sote- ja maakuntauudistus '\n 'toteutuisikaan.',\n 'Keski-Suomi. Jyväskylän yliopisto ja ammattikorkeakoulu on järkevintä '\n 'yhdistää saman hallinnon alle.',\n 'Keski-Suomi. Valtion tierahoitusta on tulevalla vaalikaudella Keski-Suomessa '\n 'kohdennettava valtateiden parantamiseen, erityisesti nelostiehen.',\n 'Keski-Suomi. Jyväskylän on saatava nykyistä enemmän valtiontukea '\n 'joukkoliikenteensä järjestämiseen.',\n 'Keski-Suomi. Jyväskylän kaupunginteatterin ja museoiden kunnostamiseen on '\n 'seuraavalla hallituskaudella ohjattava merkittäviä valtionavustuksia..1',\n 'Keski-Suomi. Sosiaali- ja terveyspalveluiden järjestäminen on keskitettävä '\n 'Keski-Suomessa yhteisen hallinnon alle, vaikkei sote- ja maakuntauudistus '\n 'toteutuisikaan..1',\n 'Keski-Suomi. Jyväskylän yliopisto ja ammattikorkeakoulu on järkevintä '\n 'yhdistää saman hallinnon alle..1',\n 'Keski-Suomi. Valtion tierahoitusta on tulevalla vaalikaudella Keski-Suomessa '\n 'kohdennettava valtateiden parantamiseen, erityisesti nelostiehen..1',\n 'Keski-Suomi. Jyväskylän on saatava nykyistä enemmän valtiontukea '\n 'joukkoliikenteensä järjestämiseen..1',\n 'Oulun vaalipiiri. Valtion pitää vähentää selvästi omistusosuuttaan Sotkamon '\n 'Talvivaarassa kaivostoimintaa harjoittavasta Terrafame-yhtiöstä.',\n 'Oulun vaalipiiri. Pohjois-Pohjanmaalle ja Kainuuseen ei saa avata yhtään '\n 'uutta kaivosta ennen kuin yhtiöiltä aletaan periä kaivosveroa.',\n 'Oulun vaalipiiri. Erikoissairaanhoitoa tulee keskittää entistä voimakkaammin '\n '(yliopistollisiin) keskussairaaloihin.',\n 'Oulun vaalipiiri. Liian suuri osa kaupallisesta marjanpoiminnasta on nyt '\n 'ulkomaalaisten poimijoiden varassa.',\n 'Oulun vaalipiiri. Oulusta on tällä vuosikymmenellä tullut entistä '\n 'turvattomampi paikka elää.',\n 'Oulun vaalipiiri. Valtion pitää vähentää selvästi omistusosuuttaan Sotkamon '\n 'Talvivaarassa kaivostoimintaa harjoittavasta Terrafame-yhtiöstä..1',\n 'Oulun vaalipiiri. Pohjois-Pohjanmaalle ja Kainuuseen ei saa avata yhtään '\n 'uutta kaivosta ennen kuin yhtiöiltä aletaan periä kaivosveroa..1',\n 'Oulun vaalipiiri. Erikoissairaanhoitoa tulee keskittää entistä voimakkaammin '\n '(yliopistollisiin) keskussairaaloihin..1',\n 'Oulun vaalipiiri. Liian suuri osa kaupallisesta marjanpoiminnasta on nyt '\n 'ulkomaalaisten poimijoiden varassa..1',\n 'Oulun vaalipiiri. Oulusta on tällä vuosikymmenellä tullut entistä '\n 'turvattomampi paikka elää..1',\n 'Lappi. Lappiin ei saa avata yhtään uutta kaivosta ennen kuin yhtiöiltä '\n 'aletaan periä kaivosveroa.',\n 'Lappi. Mahdollisen uuden maakuntahallinnon toimintoja ja työpaikkoja on '\n 'sijoitettava muuallekin kuin Rovaniemelle.',\n 'Lappi. Lapin erikoissairaanhoito on keskitettävä kokonaan Rovaniemelle Lapin '\n 'keskussairaalaan.',\n 'Lappi. Alkuperäiskansojen oikeuksia koskeva ILO-sopimus pitää ratifioida '\n 'seuraavalla hallituskaudella. ',\n 'Lappi. Jäämeren rata pitää rakentaa.',\n 'Lappi. Lappiin ei saa avata yhtään uutta kaivosta ennen kuin yhtiöiltä '\n 'aletaan periä kaivosveroa..1',\n 'Lappi. Mahdollisen uuden maakuntahallinnon toimintoja ja työpaikkoja on '\n 'sijoitettava muuallekin kuin Rovaniemelle..1',\n 'Lappi. Lapin erikoissairaanhoito on keskitettävä kokonaan Rovaniemelle Lapin '\n 'keskussairaalaan..1',\n 'Lappi. Alkuperäiskansojen oikeuksia koskeva ILO-sopimus pitää ratifioida '\n 'seuraavalla hallituskaudella. .1',\n 'Lappi. Jäämeren rata pitää rakentaa..1']\n"
     ]
    }
   ],
   "source": [
    "pprint.pprint(list(df.columns))"
   ]
  },
  {
   "cell_type": "code",
   "execution_count": 16,
   "metadata": {},
   "outputs": [
    {
     "output_type": "execute_result",
     "data": {
      "text/plain": [
       "22"
      ]
     },
     "metadata": {},
     "execution_count": 16
    }
   ],
   "source": [
    "len(df.puolue.unique())"
   ]
  },
  {
   "cell_type": "code",
   "execution_count": 120,
   "metadata": {},
   "outputs": [],
   "source": [
    "Q = df.loc[:, 'Suomen pitää olla edelläkävijä ilmastonmuutoksen vastaisessa taistelussa, vaikka se aiheuttaisi suomalaisille kustannuksia.':'On oikein nähdä vaivaa sen eteen, ettei vahingossakaan loukkaa toista.'].replace('-', np.nan)\n",
    "Q = Q.apply(pd.to_numeric)\n",
    "Q['puolue'] = df.puolue\n",
    "Q = Q.dropna()"
   ]
  },
  {
   "cell_type": "code",
   "execution_count": 122,
   "metadata": {},
   "outputs": [],
   "source": [
    "party_map = dict(zip(Q.puolue.unique(), list(range(len(Q.puolue.unique())))))\n",
    "Q = Q.applymap(lambda x: party_map[x] if x in party_map else x)"
   ]
  },
  {
   "cell_type": "code",
   "execution_count": 125,
   "metadata": {},
   "outputs": [
    {
     "output_type": "execute_result",
     "data": {
      "text/plain": [
       "KMeans(n_clusters=22)"
      ]
     },
     "metadata": {},
     "execution_count": 125
    }
   ],
   "source": [
    "m = KMeans(len(Q.puolue.unique()))\n",
    "m.fit(Q[[i for i in Q.columns if i != 'puolue']])"
   ]
  },
  {
   "cell_type": "code",
   "execution_count": 127,
   "metadata": {},
   "outputs": [
    {
     "output_type": "stream",
     "name": "stdout",
     "text": [
      "0.02021276595744681\n"
     ]
    }
   ],
   "source": [
    "accuracy = accuracy_score(Q.puolue, m.labels_)\n",
    "print(accuracy)"
   ]
  },
  {
   "cell_type": "code",
   "execution_count": 147,
   "metadata": {},
   "outputs": [],
   "source": [
    "acc_list = list()\n",
    "for i in range(1, 101):\n",
    "    m2 = DBSCAN(eps=i)\n",
    "    m2.fit(Q[[i for i in Q.columns if i != 'puolue']])\n",
    "    acc_list.append(accuracy_score(Q.puolue, m2.labels_))\n",
    "acc_list = list(enumerate(acc_list, start=1))"
   ]
  },
  {
   "cell_type": "code",
   "execution_count": 148,
   "metadata": {},
   "outputs": [
    {
     "output_type": "execute_result",
     "data": {
      "text/plain": [
       "(8, 0.09308510638297872)"
      ]
     },
     "metadata": {},
     "execution_count": 148
    }
   ],
   "source": [
    "max(acc_list, key=lambda x: x[1])"
   ]
  },
  {
   "cell_type": "code",
   "execution_count": 57,
   "metadata": {},
   "outputs": [],
   "source": [
    "a_dict = {\n",
    "  \"query\": [\n",
    "    {\n",
    "      \"code\": \"Tiedot\",\n",
    "      \"selection\": {\n",
    "        \"filter\": \"item\",\n",
    "        \"values\": [\n",
    "          \"cp\"\n",
    "        ]\n",
    "      }\n",
    "    }\n",
    "  ],\n",
    "  \"response\": {\n",
    "    \"format\": \"json-stat\"\n",
    "  }\n",
    "}\n",
    "a = requests.post(\"http://pxnet2.stat.fi/PXWeb/api/v1/fi/StatFin/kan/vtp/statfin_vtp_pxt_11sf.px\", json=a_dict)\n",
    "a_json = json.loads(a.content.decode('utf-8-sig'))"
   ]
  },
  {
   "cell_type": "code",
   "execution_count": 58,
   "metadata": {
    "tags": []
   },
   "outputs": [
    {
     "output_type": "execute_result",
     "data": {
      "text/plain": [
       "dict_keys(['status', 'dimension', 'label', 'source', 'updated', 'value'])"
      ]
     },
     "metadata": {},
     "execution_count": 58
    }
   ],
   "source": [
    "a_json['dataset'].keys()"
   ]
  },
  {
   "cell_type": "code",
   "execution_count": 51,
   "metadata": {},
   "outputs": [
    {
     "output_type": "stream",
     "name": "stdout",
     "text": [
      "('{\"title\":\"Bruttokansantuote ja -tulo sekä tarjonta ja kysyntä, vuosittain '\n 'muuttujina Taloustoimi, Vuosi ja '\n 'Tiedot\",\"variables\":[{\"code\":\"Taloustoimi\",\"text\":\"Taloustoimi\",\"values\":[\"B1GMH\",\"B1NMH\",\"P1R\",\"P2K\",\"B1GPH\",\"P51CK\",\"D11K\",\"D12K\",\"B13N\",\"P7R\",\"P71R\",\"P72R\",\"P6K\",\"P61K\",\"P62K\",\"P6K_M_P7R\",\"D1R\",\"D11R\",\"D12R\",\"D2N\",\"D2R\",\"D21R\",\"D3K\",\"D31K\",\"D4_B4N\",\"D4_B4NS11\",\"D4_B4NS12\",\"D4_B4NS13\",\"D4_B4NS14\",\"D4_B4NS15\",\"D1_D4N\",\"B11VV\",\"B5G\",\"B5N\",\"B4N\",\"B41N\",\"B42N\",\"B43N\",\"B44N\",\"D5_D7N\",\"B6N\",\"B6NS14\",\"P3K\",\"P31K\",\"P31NCK\",\"P32K\",\"P3KS13\",\"P3KS14_S15\",\"P3KS15\",\"F4S14\",\"B8N\",\"B8NS14\",\"F4NS14\",\"P51K\",\"P51KS13\",\"P51KXS13\",\"P52K\",\"P53K\",\"DEB1G\",\"B7NS14\",\"P41K\"],\"valueTexts\":[\"B1GMH '\n 'Bruttokansantuote markkinahintaan\",\"B1NMH Nettokansantuote '\n 'markkinahintaan\",\"P1R Tuotos perushintaan, tulona\",\"P2K Välituotekäyttö, '\n 'menona\",\"B1GPH Bruttoarvonlisäys perushintaan\",\"P51CK Kiinteän pääoman '\n 'kuluminen, tulona\",\"D11K Palkat ja palkkiot, menona\",\"D12K Työnantajan '\n 'sosiaaliturvamaksut, menona\",\"B13N Toimintaylijäämä / sekatulo, netto\",\"P7R '\n 'Tavaroiden ja palvelujen tuonti, tulona\",\"P71R Tavaroiden tuonti, '\n 'tulona\",\"P72R Palvelujen tuonti, tulona\",\"P6K Tavaroiden ja palvelujen '\n 'vienti, menona\",\"P61K Tavaroiden vienti, menona\",\"P62K Palvelujen vienti, '\n 'menona\",\"P6K_M_P7R Tavaroiden ja palvelujen nettovienti (P6K-P7R)\",\"D1R '\n 'Palkansaajakorvaukset, tulona\",\"D11R Saadut palkat ja palkkiot, '\n 'menona\",\"D12R Työnantajan sosiaaliturvamaksut, tulona\",\"D2N Tuotannon ja '\n 'tuonnin verot miinus tukipalkkiot\",\"D2R Tuotannon ja tuonnin verot, '\n 'tulona\",\"D21R  Tuoteverot, tulona\",\"D3K Tukipalkkiot, menona\",\"D31K '\n 'Tuotetukipalkkiot, menona\",\"D4_B4N  Omaisuus- ja yrittäjätulot, '\n 'netto\",\"D4_B4NS11 Omaisuus- ja yrittäjätulot, yritykset, netto\",\"D4_B4NS12 '\n 'Omaisuus- ja yrittäjätulot, rahoitus- ja vakuutuslaitokset, '\n 'netto\",\"D4_B4NS13 Omaisuus- ja yrittäjätulot, julkisyhteisöt, '\n 'netto\",\"D4_B4NS14 Omaisuus- ja yrittäjätulot, kotitaloudet, '\n 'netto\",\"D4_B4NS15 Omaisuus- ja yrittäjätulot, kotital. palv. voittoa '\n 'tavoittelemattomat yhteisöt, netto\",\"D1_D4N Ensitulo ulkomailta, '\n 'netto\",\"B11VV Vaihtosuhdevaikutus\",\"B5G Bruttokansantulo (BKTL)\",\"B5N '\n 'Nettokansantulo\",\"B4N Yrittäjätulo, netto\",\"B41N Yrittäjätulo '\n 'maataloudesta\",\"B42N Yrittäjätulo metsätaloudesta\",\"B43N Laskennallinen '\n 'asuntotulo\",\"B44N Muu yrittäjätulo, netto\",\"D5_D7N Tulonsiirrot ulkomailta, '\n 'netto\",\"B6N Käytettävissä oleva tulo, netto\",\"B6NS14 Käytettävissä oleva '\n 'tulo, kotitaloudet, netto\",\"P3K Kulutusmenot, menona\",\"P31K Yksilölliset '\n 'kulutusmenot, menona\",\"P31NCK Yksityiset kulutusmenot, menona\",\"P32K '\n 'Kollektiiviset kulutusmenot, menona\",\"P3KS13 Julkiset kulutusmenot, '\n 'menona\",\"P3KS14_S15 Yksityiset kulutusmenot, menona\",\"P3KS15 Kulutusmenot, '\n 'voittoa tavoittelemattomat yhteisöt, menona\",\"F4S14 Lainat, '\n 'kotitaloudet\",\"B8N Säästö, netto\",\"B8NS14  Säästämisaste, '\n 'kotitaloudet\",\"F4NS14 Velkaantumisaste, kotitaloudet\",\"P51K Kiinteän pääoman '\n 'bruttomuodostus, menona\",\"P51KS13 Julkiset investoinnit\",\"P51KXS13 '\n 'Yksityiset investoinnit\",\"P52K Varaston muutos, menona\",\"P53K Arvoesineiden '\n 'nettohankinta, menona\",\"DEB1G  Tilastollinen ero\",\"B7NS14 Oikaistu '\n 'käytettävissä oleva tulo, kotitaloudet, netto\",\"P41K Todellinen yksilöllinen '\n 'kulutus, '\n 'menona\"]},{\"code\":\"Vuosi\",\"text\":\"Vuosi\",\"values\":[\"1975\",\"1976\",\"1977\",\"1978\",\"1979\",\"1980\",\"1981\",\"1982\",\"1983\",\"1984\",\"1985\",\"1986\",\"1987\",\"1988\",\"1989\",\"1990\",\"1991\",\"1992\",\"1993\",\"1994\",\"1995\",\"1996\",\"1997\",\"1998\",\"1999\",\"2000\",\"2001\",\"2002\",\"2003\",\"2004\",\"2005\",\"2006\",\"2007\",\"2008\",\"2009\",\"2010\",\"2011\",\"2012\",\"2013\",\"2014\",\"2015\",\"2016\",\"2017\",\"2018\",\"2019\"],\"valueTexts\":[\"1975\",\"1976\",\"1977\",\"1978\",\"1979\",\"1980\",\"1981\",\"1982\",\"1983\",\"1984\",\"1985\",\"1986\",\"1987\",\"1988\",\"1989\",\"1990\",\"1991\",\"1992\",\"1993\",\"1994\",\"1995\",\"1996\",\"1997\",\"1998\",\"1999\",\"2000\",\"2001\",\"2002\",\"2003\",\"2004\",\"2005\",\"2006\",\"2007\",\"2008\",\"2009\",\"2010\",\"2011\",\"2012\",\"2013\",\"2014\",\"2015\",\"2016\",\"2017\",\"2018*\",\"2019*\"],\"time\":true},{\"code\":\"Tiedot\",\"text\":\"Tiedot\",\"values\":[\"cp\",\"fp\",\"bkt_suhde\",\"kt_suhde\",\"vol_muutos\",\"vol_ind\",\"arvon_muutos\",\"hinnan_muutos\",\"vv_2010\",\"vv_hinta_2010\",\"vv_hinta_2015\",\"vv_hinta_2019\",\"ratio\"],\"valueTexts\":[\"Käypiin '\n 'hintoihin, miljoonaa euroa\",\"Edellisen vuoden hinnoin, miljoonaa '\n 'euroa\",\"Suhde BKT:hen, %\",\"Suhde kansantuloon, %\",\"Volyymin muutokset, '\n '%\",\"Volyymi-indeksi, 2010 = 100\",\"Arvon muutokset, %\",\"Hinnan muutokset, '\n '%\",\"Hintaindeksi, 2010 = 100\",\"Volyymisarja, viitevuosi 2010\",\"Volyymisarja, '\n 'viitevuosi 2015\",\"Volyymisarja, viitevuosi  2019\",\"Aste, %\"]}]}')\n"
     ]
    }
   ],
   "source": [
    "pprint.pprint(requests.get(\"http://pxnet2.stat.fi/PXWeb/api/v1/fi/StatFin/kan/vtp/statfin_vtp_pxt_11sf.px\").text)"
   ]
  },
  {
   "cell_type": "code",
   "execution_count": 112,
   "metadata": {},
   "outputs": [],
   "source": [
    "from data_getter import SCB"
   ]
  },
  {
   "cell_type": "code",
   "execution_count": 113,
   "metadata": {},
   "outputs": [],
   "source": [
    "s = SCB()"
   ]
  },
  {
   "cell_type": "code",
   "execution_count": 114,
   "metadata": {},
   "outputs": [
    {
     "output_type": "error",
     "ename": "AttributeError",
     "evalue": "'function' object has no attribute 'get'",
     "traceback": [
      "\u001b[0;31m---------------------------------------------------------------------------\u001b[0m",
      "\u001b[0;31mAttributeError\u001b[0m                            Traceback (most recent call last)",
      "\u001b[0;32m<ipython-input-114-6c9ae23df51d>\u001b[0m in \u001b[0;36m<module>\u001b[0;34m\u001b[0m\n\u001b[0;32m----> 1\u001b[0;31m \u001b[0ms\u001b[0m\u001b[0;34m.\u001b[0m\u001b[0minfo\u001b[0m\u001b[0;34m(\u001b[0m\u001b[0;34m)\u001b[0m\u001b[0;34m\u001b[0m\u001b[0;34m\u001b[0m\u001b[0m\n\u001b[0m",
      "\u001b[0;32m~/Desktop/Vaalidata.nosync/data_getter.py\u001b[0m in \u001b[0;36minfo\u001b[0;34m(self)\u001b[0m\n\u001b[1;32m     15\u001b[0m     \u001b[0;32mdef\u001b[0m \u001b[0minfo\u001b[0m\u001b[0;34m(\u001b[0m\u001b[0mself\u001b[0m\u001b[0;34m)\u001b[0m\u001b[0;34m:\u001b[0m\u001b[0;34m\u001b[0m\u001b[0;34m\u001b[0m\u001b[0m\n\u001b[1;32m     16\u001b[0m         \u001b[0;34m\"\"\" Returns the metadata associated with the current folder. \"\"\"\u001b[0m\u001b[0;34m\u001b[0m\u001b[0;34m\u001b[0m\u001b[0m\n\u001b[0;32m---> 17\u001b[0;31m         \u001b[0;32mglobal\u001b[0m \u001b[0msession\u001b[0m\u001b[0;34m\u001b[0m\u001b[0;34m\u001b[0m\u001b[0m\n\u001b[0m\u001b[1;32m     18\u001b[0m         \u001b[0msession\u001b[0m \u001b[0;34m=\u001b[0m \u001b[0mrequests\u001b[0m\u001b[0;34m.\u001b[0m\u001b[0mSession\u001b[0m\u001b[0;34m(\u001b[0m\u001b[0mself\u001b[0m\u001b[0;34m.\u001b[0m\u001b[0murl\u001b[0m\u001b[0;34m)\u001b[0m\u001b[0;34m\u001b[0m\u001b[0;34m\u001b[0m\u001b[0m\n\u001b[1;32m     19\u001b[0m         \u001b[0mresponse\u001b[0m \u001b[0;34m=\u001b[0m \u001b[0msession\u001b[0m\u001b[0;34m.\u001b[0m\u001b[0mget\u001b[0m\u001b[0;34m(\u001b[0m\u001b[0mself\u001b[0m\u001b[0;34m.\u001b[0m\u001b[0murl\u001b[0m\u001b[0;34m)\u001b[0m\u001b[0;34m\u001b[0m\u001b[0;34m\u001b[0m\u001b[0m\n",
      "\u001b[0;31mAttributeError\u001b[0m: 'function' object has no attribute 'get'"
     ]
    }
   ],
   "source": [
    "s.info()"
   ]
  },
  {
   "cell_type": "code",
   "execution_count": null,
   "metadata": {},
   "outputs": [],
   "source": []
  }
 ]
}