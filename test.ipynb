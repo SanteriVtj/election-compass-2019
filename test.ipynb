{
 "metadata": {
  "language_info": {
   "codemirror_mode": {
    "name": "ipython",
    "version": 3
   },
   "file_extension": ".py",
   "mimetype": "text/x-python",
   "name": "python",
   "nbconvert_exporter": "python",
   "pygments_lexer": "ipython3",
   "version": "3.8.3-final"
  },
  "orig_nbformat": 2,
  "kernelspec": {
   "name": "python3",
   "display_name": "Python 3.8.3 64-bit ('base': conda)",
   "metadata": {
    "interpreter": {
     "hash": "c0fcc2a44fcf227b4f1f25af2bd094a575f895c0212a232970ea1cf881242b12"
    }
   }
  }
 },
 "nbformat": 4,
 "nbformat_minor": 2,
 "cells": [
  {
   "cell_type": "code",
   "execution_count": 70,
   "metadata": {},
   "outputs": [],
   "source": [
    "import csv\n",
    "import pandas as pd\n",
    "import matplotlib.pyplot as plt\n",
    "import numpy as np\n",
    "from sklearn.decomposition import PCA\n",
    "from sklearn.cluster import KMeans\n",
    "from sklearn.cluster import DBSCAN\n",
    "from sklearn.metrics import accuracy_score\n",
    "import statsmodels.api as sm\n",
    "import statsmodels.formula.api as smf\n",
    "from statsmodels.graphics.regressionplots import abline_plot\n",
    "import requests\n",
    "import json\n",
    "import pprint"
   ]
  },
  {
   "cell_type": "code",
   "execution_count": 149,
   "metadata": {},
   "outputs": [],
   "source": [
    "df = pd.read_csv('/Users/santerivaataja/Downloads/Avoin_data_eduskuntavaalit_2019_valintatiedot.csv', delimiter=',')"
   ]
  },
  {
   "cell_type": "code",
   "execution_count": 120,
   "metadata": {},
   "outputs": [],
   "source": [
    "Q = df.loc[:, 'Suomen pitää olla edelläkävijä ilmastonmuutoksen vastaisessa taistelussa, vaikka se aiheuttaisi suomalaisille kustannuksia.':'On oikein nähdä vaivaa sen eteen, ettei vahingossakaan loukkaa toista.'].replace('-', np.nan)\n",
    "Q = Q.apply(pd.to_numeric)\n",
    "Q['puolue'] = df.puolue\n",
    "Q = Q.dropna()"
   ]
  },
  {
   "cell_type": "code",
   "execution_count": 122,
   "metadata": {},
   "outputs": [],
   "source": [
    "party_map = dict(zip(Q.puolue.unique(), list(range(len(Q.puolue.unique())))))\n",
    "Q = Q.applymap(lambda x: party_map[x] if x in party_map else x)"
   ]
  },
  {
   "cell_type": "code",
   "execution_count": 125,
   "metadata": {},
   "outputs": [
    {
     "output_type": "execute_result",
     "data": {
      "text/plain": [
       "KMeans(n_clusters=22)"
      ]
     },
     "metadata": {},
     "execution_count": 125
    }
   ],
   "source": [
    "m = KMeans(len(Q.puolue.unique()))\n",
    "m.fit(Q[[i for i in Q.columns if i != 'puolue']])"
   ]
  },
  {
   "cell_type": "code",
   "execution_count": 127,
   "metadata": {},
   "outputs": [
    {
     "output_type": "stream",
     "name": "stdout",
     "text": [
      "0.02021276595744681\n"
     ]
    }
   ],
   "source": [
    "accuracy = accuracy_score(Q.puolue, m.labels_)\n",
    "print(accuracy)"
   ]
  },
  {
   "cell_type": "code",
   "execution_count": 147,
   "metadata": {},
   "outputs": [],
   "source": [
    "acc_list = list()\n",
    "for i in range(1, 101):\n",
    "    m2 = DBSCAN(eps=i)\n",
    "    m2.fit(Q[[i for i in Q.columns if i != 'puolue']])\n",
    "    acc_list.append(accuracy_score(Q.puolue, m2.labels_))\n",
    "acc_list = list(enumerate(acc_list, start=1))"
   ]
  },
  {
   "cell_type": "code",
   "execution_count": 148,
   "metadata": {},
   "outputs": [
    {
     "output_type": "execute_result",
     "data": {
      "text/plain": [
       "(8, 0.09308510638297872)"
      ]
     },
     "metadata": {},
     "execution_count": 148
    }
   ],
   "source": [
    "max(acc_list, key=lambda x: x[1])"
   ]
  },
  {
   "cell_type": "code",
   "execution_count": 57,
   "metadata": {},
   "outputs": [],
   "source": [
    "a_dict = {\n",
    "  \"query\": [\n",
    "    {\n",
    "      \"code\": \"Tiedot\",\n",
    "      \"selection\": {\n",
    "        \"filter\": \"item\",\n",
    "        \"values\": [\n",
    "          \"cp\"\n",
    "        ]\n",
    "      }\n",
    "    }\n",
    "  ],\n",
    "  \"response\": {\n",
    "    \"format\": \"json-stat\"\n",
    "  }\n",
    "}\n",
    "a = requests.post(\"http://pxnet2.stat.fi/PXWeb/api/v1/fi/StatFin/kan/vtp/statfin_vtp_pxt_11sf.px\", json=a_dict)\n",
    "a_json = json.loads(a.content.decode('utf-8-sig'))"
   ]
  },
  {
   "cell_type": "code",
   "execution_count": 58,
   "metadata": {
    "tags": []
   },
   "outputs": [
    {
     "output_type": "execute_result",
     "data": {
      "text/plain": [
       "dict_keys(['status', 'dimension', 'label', 'source', 'updated', 'value'])"
      ]
     },
     "metadata": {},
     "execution_count": 58
    }
   ],
   "source": [
    "a_json['dataset'].keys()"
   ]
  },
  {
   "cell_type": "code",
   "execution_count": 51,
   "metadata": {},
   "outputs": [
    {
     "output_type": "stream",
     "name": "stdout",
     "text": [
      "('{\"title\":\"Bruttokansantuote ja -tulo sekä tarjonta ja kysyntä, vuosittain '\n 'muuttujina Taloustoimi, Vuosi ja '\n 'Tiedot\",\"variables\":[{\"code\":\"Taloustoimi\",\"text\":\"Taloustoimi\",\"values\":[\"B1GMH\",\"B1NMH\",\"P1R\",\"P2K\",\"B1GPH\",\"P51CK\",\"D11K\",\"D12K\",\"B13N\",\"P7R\",\"P71R\",\"P72R\",\"P6K\",\"P61K\",\"P62K\",\"P6K_M_P7R\",\"D1R\",\"D11R\",\"D12R\",\"D2N\",\"D2R\",\"D21R\",\"D3K\",\"D31K\",\"D4_B4N\",\"D4_B4NS11\",\"D4_B4NS12\",\"D4_B4NS13\",\"D4_B4NS14\",\"D4_B4NS15\",\"D1_D4N\",\"B11VV\",\"B5G\",\"B5N\",\"B4N\",\"B41N\",\"B42N\",\"B43N\",\"B44N\",\"D5_D7N\",\"B6N\",\"B6NS14\",\"P3K\",\"P31K\",\"P31NCK\",\"P32K\",\"P3KS13\",\"P3KS14_S15\",\"P3KS15\",\"F4S14\",\"B8N\",\"B8NS14\",\"F4NS14\",\"P51K\",\"P51KS13\",\"P51KXS13\",\"P52K\",\"P53K\",\"DEB1G\",\"B7NS14\",\"P41K\"],\"valueTexts\":[\"B1GMH '\n 'Bruttokansantuote markkinahintaan\",\"B1NMH Nettokansantuote '\n 'markkinahintaan\",\"P1R Tuotos perushintaan, tulona\",\"P2K Välituotekäyttö, '\n 'menona\",\"B1GPH Bruttoarvonlisäys perushintaan\",\"P51CK Kiinteän pääoman '\n 'kuluminen, tulona\",\"D11K Palkat ja palkkiot, menona\",\"D12K Työnantajan '\n 'sosiaaliturvamaksut, menona\",\"B13N Toimintaylijäämä / sekatulo, netto\",\"P7R '\n 'Tavaroiden ja palvelujen tuonti, tulona\",\"P71R Tavaroiden tuonti, '\n 'tulona\",\"P72R Palvelujen tuonti, tulona\",\"P6K Tavaroiden ja palvelujen '\n 'vienti, menona\",\"P61K Tavaroiden vienti, menona\",\"P62K Palvelujen vienti, '\n 'menona\",\"P6K_M_P7R Tavaroiden ja palvelujen nettovienti (P6K-P7R)\",\"D1R '\n 'Palkansaajakorvaukset, tulona\",\"D11R Saadut palkat ja palkkiot, '\n 'menona\",\"D12R Työnantajan sosiaaliturvamaksut, tulona\",\"D2N Tuotannon ja '\n 'tuonnin verot miinus tukipalkkiot\",\"D2R Tuotannon ja tuonnin verot, '\n 'tulona\",\"D21R  Tuoteverot, tulona\",\"D3K Tukipalkkiot, menona\",\"D31K '\n 'Tuotetukipalkkiot, menona\",\"D4_B4N  Omaisuus- ja yrittäjätulot, '\n 'netto\",\"D4_B4NS11 Omaisuus- ja yrittäjätulot, yritykset, netto\",\"D4_B4NS12 '\n 'Omaisuus- ja yrittäjätulot, rahoitus- ja vakuutuslaitokset, '\n 'netto\",\"D4_B4NS13 Omaisuus- ja yrittäjätulot, julkisyhteisöt, '\n 'netto\",\"D4_B4NS14 Omaisuus- ja yrittäjätulot, kotitaloudet, '\n 'netto\",\"D4_B4NS15 Omaisuus- ja yrittäjätulot, kotital. palv. voittoa '\n 'tavoittelemattomat yhteisöt, netto\",\"D1_D4N Ensitulo ulkomailta, '\n 'netto\",\"B11VV Vaihtosuhdevaikutus\",\"B5G Bruttokansantulo (BKTL)\",\"B5N '\n 'Nettokansantulo\",\"B4N Yrittäjätulo, netto\",\"B41N Yrittäjätulo '\n 'maataloudesta\",\"B42N Yrittäjätulo metsätaloudesta\",\"B43N Laskennallinen '\n 'asuntotulo\",\"B44N Muu yrittäjätulo, netto\",\"D5_D7N Tulonsiirrot ulkomailta, '\n 'netto\",\"B6N Käytettävissä oleva tulo, netto\",\"B6NS14 Käytettävissä oleva '\n 'tulo, kotitaloudet, netto\",\"P3K Kulutusmenot, menona\",\"P31K Yksilölliset '\n 'kulutusmenot, menona\",\"P31NCK Yksityiset kulutusmenot, menona\",\"P32K '\n 'Kollektiiviset kulutusmenot, menona\",\"P3KS13 Julkiset kulutusmenot, '\n 'menona\",\"P3KS14_S15 Yksityiset kulutusmenot, menona\",\"P3KS15 Kulutusmenot, '\n 'voittoa tavoittelemattomat yhteisöt, menona\",\"F4S14 Lainat, '\n 'kotitaloudet\",\"B8N Säästö, netto\",\"B8NS14  Säästämisaste, '\n 'kotitaloudet\",\"F4NS14 Velkaantumisaste, kotitaloudet\",\"P51K Kiinteän pääoman '\n 'bruttomuodostus, menona\",\"P51KS13 Julkiset investoinnit\",\"P51KXS13 '\n 'Yksityiset investoinnit\",\"P52K Varaston muutos, menona\",\"P53K Arvoesineiden '\n 'nettohankinta, menona\",\"DEB1G  Tilastollinen ero\",\"B7NS14 Oikaistu '\n 'käytettävissä oleva tulo, kotitaloudet, netto\",\"P41K Todellinen yksilöllinen '\n 'kulutus, '\n 'menona\"]},{\"code\":\"Vuosi\",\"text\":\"Vuosi\",\"values\":[\"1975\",\"1976\",\"1977\",\"1978\",\"1979\",\"1980\",\"1981\",\"1982\",\"1983\",\"1984\",\"1985\",\"1986\",\"1987\",\"1988\",\"1989\",\"1990\",\"1991\",\"1992\",\"1993\",\"1994\",\"1995\",\"1996\",\"1997\",\"1998\",\"1999\",\"2000\",\"2001\",\"2002\",\"2003\",\"2004\",\"2005\",\"2006\",\"2007\",\"2008\",\"2009\",\"2010\",\"2011\",\"2012\",\"2013\",\"2014\",\"2015\",\"2016\",\"2017\",\"2018\",\"2019\"],\"valueTexts\":[\"1975\",\"1976\",\"1977\",\"1978\",\"1979\",\"1980\",\"1981\",\"1982\",\"1983\",\"1984\",\"1985\",\"1986\",\"1987\",\"1988\",\"1989\",\"1990\",\"1991\",\"1992\",\"1993\",\"1994\",\"1995\",\"1996\",\"1997\",\"1998\",\"1999\",\"2000\",\"2001\",\"2002\",\"2003\",\"2004\",\"2005\",\"2006\",\"2007\",\"2008\",\"2009\",\"2010\",\"2011\",\"2012\",\"2013\",\"2014\",\"2015\",\"2016\",\"2017\",\"2018*\",\"2019*\"],\"time\":true},{\"code\":\"Tiedot\",\"text\":\"Tiedot\",\"values\":[\"cp\",\"fp\",\"bkt_suhde\",\"kt_suhde\",\"vol_muutos\",\"vol_ind\",\"arvon_muutos\",\"hinnan_muutos\",\"vv_2010\",\"vv_hinta_2010\",\"vv_hinta_2015\",\"vv_hinta_2019\",\"ratio\"],\"valueTexts\":[\"Käypiin '\n 'hintoihin, miljoonaa euroa\",\"Edellisen vuoden hinnoin, miljoonaa '\n 'euroa\",\"Suhde BKT:hen, %\",\"Suhde kansantuloon, %\",\"Volyymin muutokset, '\n '%\",\"Volyymi-indeksi, 2010 = 100\",\"Arvon muutokset, %\",\"Hinnan muutokset, '\n '%\",\"Hintaindeksi, 2010 = 100\",\"Volyymisarja, viitevuosi 2010\",\"Volyymisarja, '\n 'viitevuosi 2015\",\"Volyymisarja, viitevuosi  2019\",\"Aste, %\"]}]}')\n"
     ]
    }
   ],
   "source": [
    "pprint.pprint(requests.get(\"http://pxnet2.stat.fi/PXWeb/api/v1/fi/StatFin/kan/vtp/statfin_vtp_pxt_11sf.px\").text)"
   ]
  },
  {
   "cell_type": "code",
   "execution_count": 112,
   "metadata": {},
   "outputs": [],
   "source": [
    "from data_getter import SCB"
   ]
  },
  {
   "cell_type": "code",
   "execution_count": 113,
   "metadata": {},
   "outputs": [],
   "source": [
    "s = SCB()"
   ]
  },
  {
   "cell_type": "code",
   "execution_count": 114,
   "metadata": {},
   "outputs": [
    {
     "output_type": "error",
     "ename": "AttributeError",
     "evalue": "'function' object has no attribute 'get'",
     "traceback": [
      "\u001b[0;31m---------------------------------------------------------------------------\u001b[0m",
      "\u001b[0;31mAttributeError\u001b[0m                            Traceback (most recent call last)",
      "\u001b[0;32m<ipython-input-114-6c9ae23df51d>\u001b[0m in \u001b[0;36m<module>\u001b[0;34m\u001b[0m\n\u001b[0;32m----> 1\u001b[0;31m \u001b[0ms\u001b[0m\u001b[0;34m.\u001b[0m\u001b[0minfo\u001b[0m\u001b[0;34m(\u001b[0m\u001b[0;34m)\u001b[0m\u001b[0;34m\u001b[0m\u001b[0;34m\u001b[0m\u001b[0m\n\u001b[0m",
      "\u001b[0;32m~/Desktop/Vaalidata.nosync/data_getter.py\u001b[0m in \u001b[0;36minfo\u001b[0;34m(self)\u001b[0m\n\u001b[1;32m     15\u001b[0m     \u001b[0;32mdef\u001b[0m \u001b[0minfo\u001b[0m\u001b[0;34m(\u001b[0m\u001b[0mself\u001b[0m\u001b[0;34m)\u001b[0m\u001b[0;34m:\u001b[0m\u001b[0;34m\u001b[0m\u001b[0;34m\u001b[0m\u001b[0m\n\u001b[1;32m     16\u001b[0m         \u001b[0;34m\"\"\" Returns the metadata associated with the current folder. \"\"\"\u001b[0m\u001b[0;34m\u001b[0m\u001b[0;34m\u001b[0m\u001b[0m\n\u001b[0;32m---> 17\u001b[0;31m         \u001b[0;32mglobal\u001b[0m \u001b[0msession\u001b[0m\u001b[0;34m\u001b[0m\u001b[0;34m\u001b[0m\u001b[0m\n\u001b[0m\u001b[1;32m     18\u001b[0m         \u001b[0msession\u001b[0m \u001b[0;34m=\u001b[0m \u001b[0mrequests\u001b[0m\u001b[0;34m.\u001b[0m\u001b[0mSession\u001b[0m\u001b[0;34m(\u001b[0m\u001b[0mself\u001b[0m\u001b[0;34m.\u001b[0m\u001b[0murl\u001b[0m\u001b[0;34m)\u001b[0m\u001b[0;34m\u001b[0m\u001b[0;34m\u001b[0m\u001b[0m\n\u001b[1;32m     19\u001b[0m         \u001b[0mresponse\u001b[0m \u001b[0;34m=\u001b[0m \u001b[0msession\u001b[0m\u001b[0;34m.\u001b[0m\u001b[0mget\u001b[0m\u001b[0;34m(\u001b[0m\u001b[0mself\u001b[0m\u001b[0;34m.\u001b[0m\u001b[0murl\u001b[0m\u001b[0;34m)\u001b[0m\u001b[0;34m\u001b[0m\u001b[0;34m\u001b[0m\u001b[0m\n",
      "\u001b[0;31mAttributeError\u001b[0m: 'function' object has no attribute 'get'"
     ]
    }
   ],
   "source": [
    "s.info()"
   ]
  },
  {
   "cell_type": "code",
   "execution_count": null,
   "metadata": {},
   "outputs": [],
   "source": []
  }
 ]
}